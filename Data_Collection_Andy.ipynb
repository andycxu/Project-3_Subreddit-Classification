{
 "cells": [
  {
   "cell_type": "markdown",
   "id": "249d8e6b-01cf-454c-8d3b-a9e5ce38152b",
   "metadata": {},
   "source": [
    "# Project 3 - Web APIs & NLP by Chenhao Andy Xu"
   ]
  },
  {
   "cell_type": "code",
   "execution_count": 33,
   "id": "cc63e502-36cc-4e9f-84fa-a45f79be4a78",
   "metadata": {},
   "outputs": [],
   "source": [
    "import pandas as pd\n",
    "import numpy as np\n",
    "\n",
    "import requests\n",
    "from bs4 import BeautifulSoup\n",
    "import time"
   ]
  },
  {
   "cell_type": "markdown",
   "id": "447cde13-21c2-4290-93a5-5e60f48153a8",
   "metadata": {},
   "source": [
    "## 1. Download Data"
   ]
  },
  {
   "cell_type": "markdown",
   "id": "3943a0f7-7424-4934-b37c-b4044c9b30ee",
   "metadata": {},
   "source": [
    "### 1.1. Get Data for Piano"
   ]
  },
  {
   "cell_type": "code",
   "execution_count": 38,
   "id": "3f8ad2d9-f636-4285-9b9e-581e769b50ff",
   "metadata": {
    "tags": []
   },
   "outputs": [],
   "source": [
    "base_url = 'https://api.pushshift.io/reddit/search/'"
   ]
  },
  {
   "cell_type": "code",
   "execution_count": 39,
   "id": "b4866752-c771-40bd-9777-dcfbb7b9f035",
   "metadata": {},
   "outputs": [],
   "source": [
    "params = {\n",
    "    'subreddit': 'piano', \n",
    "    'size': 100, \n",
    "}\n",
    "\n",
    "res = requests.get(base_url + 'submission/', params = params)"
   ]
  },
  {
   "cell_type": "code",
   "execution_count": 40,
   "id": "035e6be9-3dce-48ce-8aa6-ad20c5523652",
   "metadata": {},
   "outputs": [
    {
     "data": {
      "text/plain": [
       "521"
      ]
     },
     "execution_count": 40,
     "metadata": {},
     "output_type": "execute_result"
    }
   ],
   "source": [
    "res.status_code"
   ]
  },
  {
   "cell_type": "code",
   "execution_count": 41,
   "id": "c407c0e1-c694-4bc4-837e-68d117fadbe5",
   "metadata": {},
   "outputs": [
    {
     "ename": "JSONDecodeError",
     "evalue": "Expecting value: line 1 column 1 (char 0)",
     "output_type": "error",
     "traceback": [
      "\u001b[0;31m---------------------------------------------------------------------------\u001b[0m",
      "\u001b[0;31mJSONDecodeError\u001b[0m                           Traceback (most recent call last)",
      "\u001b[0;32m/var/folders/qb/44_9hw1s49d2hp61r3y2hmwm0000gn/T/ipykernel_71979/1341400887.py\u001b[0m in \u001b[0;36m<module>\u001b[0;34m\u001b[0m\n\u001b[0;32m----> 1\u001b[0;31m \u001b[0mdata\u001b[0m \u001b[0;34m=\u001b[0m \u001b[0mres\u001b[0m\u001b[0;34m.\u001b[0m\u001b[0mjson\u001b[0m\u001b[0;34m(\u001b[0m\u001b[0;34m)\u001b[0m\u001b[0;34m\u001b[0m\u001b[0;34m\u001b[0m\u001b[0m\n\u001b[0m",
      "\u001b[0;32m/opt/anaconda3/lib/python3.9/site-packages/requests/models.py\u001b[0m in \u001b[0;36mjson\u001b[0;34m(self, **kwargs)\u001b[0m\n\u001b[1;32m    908\u001b[0m                     \u001b[0;31m# used.\u001b[0m\u001b[0;34m\u001b[0m\u001b[0;34m\u001b[0m\u001b[0m\n\u001b[1;32m    909\u001b[0m                     \u001b[0;32mpass\u001b[0m\u001b[0;34m\u001b[0m\u001b[0;34m\u001b[0m\u001b[0m\n\u001b[0;32m--> 910\u001b[0;31m         \u001b[0;32mreturn\u001b[0m \u001b[0mcomplexjson\u001b[0m\u001b[0;34m.\u001b[0m\u001b[0mloads\u001b[0m\u001b[0;34m(\u001b[0m\u001b[0mself\u001b[0m\u001b[0;34m.\u001b[0m\u001b[0mtext\u001b[0m\u001b[0;34m,\u001b[0m \u001b[0;34m**\u001b[0m\u001b[0mkwargs\u001b[0m\u001b[0;34m)\u001b[0m\u001b[0;34m\u001b[0m\u001b[0;34m\u001b[0m\u001b[0m\n\u001b[0m\u001b[1;32m    911\u001b[0m \u001b[0;34m\u001b[0m\u001b[0m\n\u001b[1;32m    912\u001b[0m     \u001b[0;34m@\u001b[0m\u001b[0mproperty\u001b[0m\u001b[0;34m\u001b[0m\u001b[0;34m\u001b[0m\u001b[0m\n",
      "\u001b[0;32m/opt/anaconda3/lib/python3.9/json/__init__.py\u001b[0m in \u001b[0;36mloads\u001b[0;34m(s, cls, object_hook, parse_float, parse_int, parse_constant, object_pairs_hook, **kw)\u001b[0m\n\u001b[1;32m    344\u001b[0m             \u001b[0mparse_int\u001b[0m \u001b[0;32mis\u001b[0m \u001b[0;32mNone\u001b[0m \u001b[0;32mand\u001b[0m \u001b[0mparse_float\u001b[0m \u001b[0;32mis\u001b[0m \u001b[0;32mNone\u001b[0m \u001b[0;32mand\u001b[0m\u001b[0;34m\u001b[0m\u001b[0;34m\u001b[0m\u001b[0m\n\u001b[1;32m    345\u001b[0m             parse_constant is None and object_pairs_hook is None and not kw):\n\u001b[0;32m--> 346\u001b[0;31m         \u001b[0;32mreturn\u001b[0m \u001b[0m_default_decoder\u001b[0m\u001b[0;34m.\u001b[0m\u001b[0mdecode\u001b[0m\u001b[0;34m(\u001b[0m\u001b[0ms\u001b[0m\u001b[0;34m)\u001b[0m\u001b[0;34m\u001b[0m\u001b[0;34m\u001b[0m\u001b[0m\n\u001b[0m\u001b[1;32m    347\u001b[0m     \u001b[0;32mif\u001b[0m \u001b[0mcls\u001b[0m \u001b[0;32mis\u001b[0m \u001b[0;32mNone\u001b[0m\u001b[0;34m:\u001b[0m\u001b[0;34m\u001b[0m\u001b[0;34m\u001b[0m\u001b[0m\n\u001b[1;32m    348\u001b[0m         \u001b[0mcls\u001b[0m \u001b[0;34m=\u001b[0m \u001b[0mJSONDecoder\u001b[0m\u001b[0;34m\u001b[0m\u001b[0;34m\u001b[0m\u001b[0m\n",
      "\u001b[0;32m/opt/anaconda3/lib/python3.9/json/decoder.py\u001b[0m in \u001b[0;36mdecode\u001b[0;34m(self, s, _w)\u001b[0m\n\u001b[1;32m    335\u001b[0m \u001b[0;34m\u001b[0m\u001b[0m\n\u001b[1;32m    336\u001b[0m         \"\"\"\n\u001b[0;32m--> 337\u001b[0;31m         \u001b[0mobj\u001b[0m\u001b[0;34m,\u001b[0m \u001b[0mend\u001b[0m \u001b[0;34m=\u001b[0m \u001b[0mself\u001b[0m\u001b[0;34m.\u001b[0m\u001b[0mraw_decode\u001b[0m\u001b[0;34m(\u001b[0m\u001b[0ms\u001b[0m\u001b[0;34m,\u001b[0m \u001b[0midx\u001b[0m\u001b[0;34m=\u001b[0m\u001b[0m_w\u001b[0m\u001b[0;34m(\u001b[0m\u001b[0ms\u001b[0m\u001b[0;34m,\u001b[0m \u001b[0;36m0\u001b[0m\u001b[0;34m)\u001b[0m\u001b[0;34m.\u001b[0m\u001b[0mend\u001b[0m\u001b[0;34m(\u001b[0m\u001b[0;34m)\u001b[0m\u001b[0;34m)\u001b[0m\u001b[0;34m\u001b[0m\u001b[0;34m\u001b[0m\u001b[0m\n\u001b[0m\u001b[1;32m    338\u001b[0m         \u001b[0mend\u001b[0m \u001b[0;34m=\u001b[0m \u001b[0m_w\u001b[0m\u001b[0;34m(\u001b[0m\u001b[0ms\u001b[0m\u001b[0;34m,\u001b[0m \u001b[0mend\u001b[0m\u001b[0;34m)\u001b[0m\u001b[0;34m.\u001b[0m\u001b[0mend\u001b[0m\u001b[0;34m(\u001b[0m\u001b[0;34m)\u001b[0m\u001b[0;34m\u001b[0m\u001b[0;34m\u001b[0m\u001b[0m\n\u001b[1;32m    339\u001b[0m         \u001b[0;32mif\u001b[0m \u001b[0mend\u001b[0m \u001b[0;34m!=\u001b[0m \u001b[0mlen\u001b[0m\u001b[0;34m(\u001b[0m\u001b[0ms\u001b[0m\u001b[0;34m)\u001b[0m\u001b[0;34m:\u001b[0m\u001b[0;34m\u001b[0m\u001b[0;34m\u001b[0m\u001b[0m\n",
      "\u001b[0;32m/opt/anaconda3/lib/python3.9/json/decoder.py\u001b[0m in \u001b[0;36mraw_decode\u001b[0;34m(self, s, idx)\u001b[0m\n\u001b[1;32m    353\u001b[0m             \u001b[0mobj\u001b[0m\u001b[0;34m,\u001b[0m \u001b[0mend\u001b[0m \u001b[0;34m=\u001b[0m \u001b[0mself\u001b[0m\u001b[0;34m.\u001b[0m\u001b[0mscan_once\u001b[0m\u001b[0;34m(\u001b[0m\u001b[0ms\u001b[0m\u001b[0;34m,\u001b[0m \u001b[0midx\u001b[0m\u001b[0;34m)\u001b[0m\u001b[0;34m\u001b[0m\u001b[0;34m\u001b[0m\u001b[0m\n\u001b[1;32m    354\u001b[0m         \u001b[0;32mexcept\u001b[0m \u001b[0mStopIteration\u001b[0m \u001b[0;32mas\u001b[0m \u001b[0merr\u001b[0m\u001b[0;34m:\u001b[0m\u001b[0;34m\u001b[0m\u001b[0;34m\u001b[0m\u001b[0m\n\u001b[0;32m--> 355\u001b[0;31m             \u001b[0;32mraise\u001b[0m \u001b[0mJSONDecodeError\u001b[0m\u001b[0;34m(\u001b[0m\u001b[0;34m\"Expecting value\"\u001b[0m\u001b[0;34m,\u001b[0m \u001b[0ms\u001b[0m\u001b[0;34m,\u001b[0m \u001b[0merr\u001b[0m\u001b[0;34m.\u001b[0m\u001b[0mvalue\u001b[0m\u001b[0;34m)\u001b[0m \u001b[0;32mfrom\u001b[0m \u001b[0;32mNone\u001b[0m\u001b[0;34m\u001b[0m\u001b[0;34m\u001b[0m\u001b[0m\n\u001b[0m\u001b[1;32m    356\u001b[0m         \u001b[0;32mreturn\u001b[0m \u001b[0mobj\u001b[0m\u001b[0;34m,\u001b[0m \u001b[0mend\u001b[0m\u001b[0;34m\u001b[0m\u001b[0;34m\u001b[0m\u001b[0m\n",
      "\u001b[0;31mJSONDecodeError\u001b[0m: Expecting value: line 1 column 1 (char 0)"
     ]
    }
   ],
   "source": [
    "data = res.json()"
   ]
  },
  {
   "cell_type": "code",
   "execution_count": null,
   "id": "4c380a41-eab6-4e69-bf0f-866cc8110635",
   "metadata": {
    "tags": []
   },
   "outputs": [],
   "source": [
    "piano_all = pd.DataFrame(data['data'])\n",
    "piano_all"
   ]
  },
  {
   "cell_type": "code",
   "execution_count": null,
   "id": "6f108879",
   "metadata": {
    "tags": []
   },
   "outputs": [],
   "source": [
    "pd.DataFrame(data['data']).columns"
   ]
  },
  {
   "cell_type": "code",
   "execution_count": null,
   "id": "09ac4d42-90f0-46d0-9cb9-72ecbca85411",
   "metadata": {
    "tags": []
   },
   "outputs": [],
   "source": [
    "piano = piano_all[['subreddit', 'title', 'selftext', 'created_utc']]\n",
    "piano"
   ]
  },
  {
   "cell_type": "code",
   "execution_count": null,
   "id": "cf850be4-b047-4798-a23d-96bf811c950d",
   "metadata": {
    "tags": []
   },
   "outputs": [],
   "source": [
    "for i in range(40):\n",
    "    time.sleep(1)\n",
    "    params = {'subreddit': 'piano', 'size': 100, 'before': piano[-1:]['created_utc']}\n",
    "    res = requests.get(base_url + 'submission/', params = params)\n",
    "    # res.status_code\n",
    "    data = res.json()\n",
    "    df_all = pd.DataFrame(data['data'])\n",
    "    df = df_all[['subreddit', 'title', 'selftext','created_utc']]\n",
    "    piano = pd.concat([piano, df])"
   ]
  },
  {
   "cell_type": "code",
   "execution_count": null,
   "id": "19d12086-cfc4-4271-8a9f-ab64d47c5428",
   "metadata": {},
   "outputs": [],
   "source": [
    "piano"
   ]
  },
  {
   "cell_type": "code",
   "execution_count": null,
   "id": "2a479edb-801e-47ed-addf-ff5f3b9d7d19",
   "metadata": {},
   "outputs": [],
   "source": [
    "piano.to_csv('./data/piano.csv')"
   ]
  },
  {
   "cell_type": "code",
   "execution_count": null,
   "id": "23c0facc-816b-4a78-b2b5-b7d72c91823a",
   "metadata": {},
   "outputs": [],
   "source": [
    "piano.isna().sum()"
   ]
  },
  {
   "cell_type": "code",
   "execution_count": null,
   "id": "2a0bbbdb-6b82-4afd-ae2e-fbe25064b183",
   "metadata": {},
   "outputs": [],
   "source": [
    "piano.shape"
   ]
  },
  {
   "cell_type": "markdown",
   "id": "2a05aad7-9d76-4a54-8697-8ccb0c58ea86",
   "metadata": {},
   "source": [
    "### 1.2. Get Data for Drum"
   ]
  },
  {
   "cell_type": "code",
   "execution_count": null,
   "id": "0c0e2426-0771-4f14-bbc1-25859526e944",
   "metadata": {},
   "outputs": [],
   "source": [
    "params = {\n",
    "    'subreddit': 'drum', \n",
    "    'size': 100, \n",
    "}\n",
    "\n",
    "res = requests.get(base_url + 'submission/', params = params)"
   ]
  },
  {
   "cell_type": "code",
   "execution_count": null,
   "id": "b9934b7e-a5c9-4258-afc3-88aa8fd00e23",
   "metadata": {},
   "outputs": [],
   "source": [
    "res.status_code"
   ]
  },
  {
   "cell_type": "code",
   "execution_count": null,
   "id": "bd63d243-20ed-4f6d-a514-1ce886c54ce9",
   "metadata": {},
   "outputs": [],
   "source": [
    "data = res.json()"
   ]
  },
  {
   "cell_type": "code",
   "execution_count": null,
   "id": "3a34768a-d6e9-4dbe-aa7e-9477a0f5510e",
   "metadata": {},
   "outputs": [],
   "source": [
    "drum_all = pd.DataFrame(data['data'])\n",
    "drum_all"
   ]
  },
  {
   "cell_type": "code",
   "execution_count": null,
   "id": "f8a05fba-0710-40fc-b709-bd15c3491dc4",
   "metadata": {},
   "outputs": [],
   "source": [
    "drum = drum_all[['subreddit', 'title', 'selftext', 'created_utc']]\n",
    "drum"
   ]
  },
  {
   "cell_type": "code",
   "execution_count": null,
   "id": "f3eb5cfe-cc80-4330-8420-e04891a2295e",
   "metadata": {},
   "outputs": [],
   "source": [
    "for j in range(39):\n",
    "    time.sleep(2)\n",
    "    params = {'subreddit': 'drum', 'size': 100, 'before': drum[-1:]['created_utc']}\n",
    "    res = requests.get(base_url + 'submission/', params = params)\n",
    "    # res.status_code\n",
    "    data = res.json()\n",
    "    df_all = pd.DataFrame(data['data'])\n",
    "    df = df_all[['subreddit', 'title', 'selftext','created_utc']]\n",
    "    drum = pd.concat([drum, df])"
   ]
  },
  {
   "cell_type": "code",
   "execution_count": null,
   "id": "f25780b9-5a2e-4dfc-94d5-3f437736eeb3",
   "metadata": {
    "tags": []
   },
   "outputs": [],
   "source": [
    "drum"
   ]
  },
  {
   "cell_type": "code",
   "execution_count": null,
   "id": "1f5a1b6c-8433-4547-887e-bb5d309b6ef8",
   "metadata": {},
   "outputs": [],
   "source": [
    "drum.to_csv('./data/drum.csv')"
   ]
  },
  {
   "cell_type": "code",
   "execution_count": null,
   "id": "71e8ed9c-b1cd-48e7-8fd1-30494b2e28b7",
   "metadata": {},
   "outputs": [],
   "source": [
    "drum.isna().sum()"
   ]
  },
  {
   "cell_type": "code",
   "execution_count": null,
   "id": "2bdd75ab-12a6-4376-ac2e-1d1bef23c0a6",
   "metadata": {},
   "outputs": [],
   "source": [
    "drum.shape"
   ]
  },
  {
   "cell_type": "code",
   "execution_count": null,
   "id": "d65ff1af-67b1-4716-9cc3-ab85f8b5d308",
   "metadata": {},
   "outputs": [],
   "source": [
    "drum.info()"
   ]
  },
  {
   "cell_type": "markdown",
   "id": "04727d5f-b9e0-487a-999c-5233d1e2fa48",
   "metadata": {},
   "source": [
    "I had unexpected issue when I got data from subreddit. The piano part was fine. But the same code for drum always showed some error (although I was still getting decent amount of data from it). I talked to Jeff and he said the code was fine. I don't know where the issue is. "
   ]
  },
  {
   "cell_type": "markdown",
   "id": "b1dbc523-5b77-48ab-93f3-eb417e9bb447",
   "metadata": {},
   "source": [
    "One more update: now, the res.json() even showed 521 not 200. I don't know where I made mistake. "
   ]
  },
  {
   "cell_type": "code",
   "execution_count": null,
   "id": "f101e960-27b2-4101-ae3f-753adcae02ac",
   "metadata": {},
   "outputs": [],
   "source": []
  }
 ],
 "metadata": {
  "kernelspec": {
   "display_name": "Python 3 (ipykernel)",
   "language": "python",
   "name": "python3"
  },
  "language_info": {
   "codemirror_mode": {
    "name": "ipython",
    "version": 3
   },
   "file_extension": ".py",
   "mimetype": "text/x-python",
   "name": "python",
   "nbconvert_exporter": "python",
   "pygments_lexer": "ipython3",
   "version": "3.9.7"
  }
 },
 "nbformat": 4,
 "nbformat_minor": 5
}
