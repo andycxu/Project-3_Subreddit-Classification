{
 "cells": [
  {
   "cell_type": "markdown",
   "id": "077cc7e8-293f-4231-9ac6-edbb22373d49",
   "metadata": {
    "tags": []
   },
   "source": [
    "# Project 3 - Web APIs & NLP by Chenhao Andy Xu"
   ]
  },
  {
   "cell_type": "code",
   "execution_count": 2,
   "id": "4cb89201-790a-48c3-b0c5-680bb9641f9c",
   "metadata": {},
   "outputs": [],
   "source": [
    "import pandas as pd\n",
    "import numpy as np\n",
    "import matplotlib.pyplot as plt\n",
    "\n",
    "from sklearn.model_selection import train_test_split, cross_val_score, GridSearchCV\n",
    "from sklearn.pipeline import Pipeline, make_pipeline\n",
    "from sklearn.metrics import confusion_matrix, ConfusionMatrixDisplay\n",
    "from sklearn.compose import make_column_transformer\n",
    "\n",
    "from sklearn.feature_extraction.text import CountVectorizer, TfidfVectorizer\n",
    "from sklearn.linear_model import LogisticRegression\n",
    "from sklearn.ensemble import ExtraTreesClassifier, RandomForestClassifier, BaggingClassifier\n",
    "from sklearn.neighbors import KNeighborsClassifier\n",
    "\n",
    "from sklearn.metrics import accuracy_score, recall_score, precision_score, f1_score\n",
    "from nltk.corpus import stopwords\n",
    "\n",
    "from nltk import word_tokenize\n",
    "from nltk.stem import WordNetLemmatizer\n",
    "\n",
    "from sklearn.tree import plot_tree, export_text\n",
    "import matplotlib.pyplot as plt"
   ]
  },
  {
   "cell_type": "markdown",
   "id": "3435280a-e64b-4ae2-8938-5dc4b9e78a12",
   "metadata": {
    "tags": []
   },
   "source": [
    "## 1. Data Cleaning and EDA"
   ]
  },
  {
   "cell_type": "code",
   "execution_count": 3,
   "id": "720f0a83-54a3-4b87-bd73-5e632be09652",
   "metadata": {},
   "outputs": [],
   "source": [
    "# import data\n",
    "piano = pd.read_csv('data/piano.csv')\n",
    "drum = pd.read_csv('data/drum.csv')"
   ]
  },
  {
   "cell_type": "code",
   "execution_count": 4,
   "id": "df2cd414-26cb-4d86-8885-0505f54b11e3",
   "metadata": {
    "tags": []
   },
   "outputs": [],
   "source": [
    "# Combine datasets\n",
    "instrument = pd.concat([piano, drum])"
   ]
  },
  {
   "cell_type": "code",
   "execution_count": 5,
   "id": "707389c1-9b92-4b6e-ad7a-e07ca737063f",
   "metadata": {},
   "outputs": [
    {
     "data": {
      "text/html": [
       "<div>\n",
       "<style scoped>\n",
       "    .dataframe tbody tr th:only-of-type {\n",
       "        vertical-align: middle;\n",
       "    }\n",
       "\n",
       "    .dataframe tbody tr th {\n",
       "        vertical-align: top;\n",
       "    }\n",
       "\n",
       "    .dataframe thead th {\n",
       "        text-align: right;\n",
       "    }\n",
       "</style>\n",
       "<table border=\"1\" class=\"dataframe\">\n",
       "  <thead>\n",
       "    <tr style=\"text-align: right;\">\n",
       "      <th></th>\n",
       "      <th>subreddit</th>\n",
       "      <th>title</th>\n",
       "      <th>selftext</th>\n",
       "    </tr>\n",
       "  </thead>\n",
       "  <tbody>\n",
       "    <tr>\n",
       "      <th>0</th>\n",
       "      <td>piano</td>\n",
       "      <td>This is an original song made my me! I really ...</td>\n",
       "      <td>NaN</td>\n",
       "    </tr>\n",
       "    <tr>\n",
       "      <th>1</th>\n",
       "      <td>piano</td>\n",
       "      <td>Pianist Tom Brier sight-reading the notes to t...</td>\n",
       "      <td>NaN</td>\n",
       "    </tr>\n",
       "    <tr>\n",
       "      <th>2</th>\n",
       "      <td>piano</td>\n",
       "      <td>Country | Support Ukraine!</td>\n",
       "      <td>&amp;amp;#x200B;\\n\\n*Processing video x1asqw06miw8...</td>\n",
       "    </tr>\n",
       "    <tr>\n",
       "      <th>3</th>\n",
       "      <td>piano</td>\n",
       "      <td>How to not get bored when I know the notes?</td>\n",
       "      <td>Hi, I find i practise a song a lot, get it dow...</td>\n",
       "    </tr>\n",
       "    <tr>\n",
       "      <th>4</th>\n",
       "      <td>piano</td>\n",
       "      <td>Scriabin op. 8 no.4</td>\n",
       "      <td>*Processing video kedok3rgjiw81...*</td>\n",
       "    </tr>\n",
       "  </tbody>\n",
       "</table>\n",
       "</div>"
      ],
      "text/plain": [
       "  subreddit                                              title  \\\n",
       "0     piano  This is an original song made my me! I really ...   \n",
       "1     piano  Pianist Tom Brier sight-reading the notes to t...   \n",
       "2     piano                         Country | Support Ukraine!   \n",
       "3     piano        How to not get bored when I know the notes?   \n",
       "4     piano                                Scriabin op. 8 no.4   \n",
       "\n",
       "                                            selftext  \n",
       "0                                                NaN  \n",
       "1                                                NaN  \n",
       "2  &amp;#x200B;\\n\\n*Processing video x1asqw06miw8...  \n",
       "3  Hi, I find i practise a song a lot, get it dow...  \n",
       "4                *Processing video kedok3rgjiw81...*  "
      ]
     },
     "execution_count": 5,
     "metadata": {},
     "output_type": "execute_result"
    }
   ],
   "source": [
    "# remove unnecessary columns\n",
    "instrument = instrument.drop(columns = ['created_utc', 'Unnamed: 0'])\n",
    "instrument.head()"
   ]
  },
  {
   "cell_type": "code",
   "execution_count": 6,
   "id": "4dc83b5c-c06b-405a-bed3-cf3734fc906f",
   "metadata": {},
   "outputs": [
    {
     "data": {
      "text/html": [
       "<div>\n",
       "<style scoped>\n",
       "    .dataframe tbody tr th:only-of-type {\n",
       "        vertical-align: middle;\n",
       "    }\n",
       "\n",
       "    .dataframe tbody tr th {\n",
       "        vertical-align: top;\n",
       "    }\n",
       "\n",
       "    .dataframe thead th {\n",
       "        text-align: right;\n",
       "    }\n",
       "</style>\n",
       "<table border=\"1\" class=\"dataframe\">\n",
       "  <thead>\n",
       "    <tr style=\"text-align: right;\">\n",
       "      <th></th>\n",
       "      <th>subreddit</th>\n",
       "      <th>title</th>\n",
       "      <th>selftext</th>\n",
       "    </tr>\n",
       "  </thead>\n",
       "  <tbody>\n",
       "    <tr>\n",
       "      <th>0</th>\n",
       "      <td>piano</td>\n",
       "      <td>This is an original song made my me! I really ...</td>\n",
       "      <td>NaN</td>\n",
       "    </tr>\n",
       "    <tr>\n",
       "      <th>1</th>\n",
       "      <td>piano</td>\n",
       "      <td>Pianist Tom Brier sight-reading the notes to t...</td>\n",
       "      <td>NaN</td>\n",
       "    </tr>\n",
       "    <tr>\n",
       "      <th>2</th>\n",
       "      <td>piano</td>\n",
       "      <td>Country | Support Ukraine!</td>\n",
       "      <td>&amp;amp;#x200B;\\n\\n*Processing video x1asqw06miw8...</td>\n",
       "    </tr>\n",
       "    <tr>\n",
       "      <th>3</th>\n",
       "      <td>piano</td>\n",
       "      <td>How to not get bored when I know the notes?</td>\n",
       "      <td>Hi, I find i practise a song a lot, get it dow...</td>\n",
       "    </tr>\n",
       "    <tr>\n",
       "      <th>4</th>\n",
       "      <td>piano</td>\n",
       "      <td>Scriabin op. 8 no.4</td>\n",
       "      <td>*Processing video kedok3rgjiw81...*</td>\n",
       "    </tr>\n",
       "  </tbody>\n",
       "</table>\n",
       "</div>"
      ],
      "text/plain": [
       "  subreddit                                              title  \\\n",
       "0     piano  This is an original song made my me! I really ...   \n",
       "1     piano  Pianist Tom Brier sight-reading the notes to t...   \n",
       "2     piano                         Country | Support Ukraine!   \n",
       "3     piano        How to not get bored when I know the notes?   \n",
       "4     piano                                Scriabin op. 8 no.4   \n",
       "\n",
       "                                            selftext  \n",
       "0                                                NaN  \n",
       "1                                                NaN  \n",
       "2  &amp;#x200B;\\n\\n*Processing video x1asqw06miw8...  \n",
       "3  Hi, I find i practise a song a lot, get it dow...  \n",
       "4                *Processing video kedok3rgjiw81...*  "
      ]
     },
     "execution_count": 6,
     "metadata": {},
     "output_type": "execute_result"
    }
   ],
   "source": [
    "# Reset index \n",
    "instrument = instrument.reset_index()\n",
    "instrument = instrument.drop(columns = ['index'])\n",
    "instrument.head()"
   ]
  },
  {
   "cell_type": "code",
   "execution_count": 7,
   "id": "508883d3-c3a2-4b61-bd55-8b7f98d1acd2",
   "metadata": {
    "tags": []
   },
   "outputs": [
    {
     "data": {
      "text/html": [
       "<div>\n",
       "<style scoped>\n",
       "    .dataframe tbody tr th:only-of-type {\n",
       "        vertical-align: middle;\n",
       "    }\n",
       "\n",
       "    .dataframe tbody tr th {\n",
       "        vertical-align: top;\n",
       "    }\n",
       "\n",
       "    .dataframe thead th {\n",
       "        text-align: right;\n",
       "    }\n",
       "</style>\n",
       "<table border=\"1\" class=\"dataframe\">\n",
       "  <thead>\n",
       "    <tr style=\"text-align: right;\">\n",
       "      <th></th>\n",
       "      <th>subreddit</th>\n",
       "      <th>title</th>\n",
       "      <th>selftext</th>\n",
       "    </tr>\n",
       "  </thead>\n",
       "  <tbody>\n",
       "    <tr>\n",
       "      <th>0</th>\n",
       "      <td>1</td>\n",
       "      <td>This is an original song made my me! I really ...</td>\n",
       "      <td>NaN</td>\n",
       "    </tr>\n",
       "    <tr>\n",
       "      <th>1</th>\n",
       "      <td>1</td>\n",
       "      <td>Pianist Tom Brier sight-reading the notes to t...</td>\n",
       "      <td>NaN</td>\n",
       "    </tr>\n",
       "    <tr>\n",
       "      <th>2</th>\n",
       "      <td>1</td>\n",
       "      <td>Country | Support Ukraine!</td>\n",
       "      <td>&amp;amp;#x200B;\\n\\n*Processing video x1asqw06miw8...</td>\n",
       "    </tr>\n",
       "    <tr>\n",
       "      <th>3</th>\n",
       "      <td>1</td>\n",
       "      <td>How to not get bored when I know the notes?</td>\n",
       "      <td>Hi, I find i practise a song a lot, get it dow...</td>\n",
       "    </tr>\n",
       "    <tr>\n",
       "      <th>4</th>\n",
       "      <td>1</td>\n",
       "      <td>Scriabin op. 8 no.4</td>\n",
       "      <td>*Processing video kedok3rgjiw81...*</td>\n",
       "    </tr>\n",
       "  </tbody>\n",
       "</table>\n",
       "</div>"
      ],
      "text/plain": [
       "   subreddit                                              title  \\\n",
       "0          1  This is an original song made my me! I really ...   \n",
       "1          1  Pianist Tom Brier sight-reading the notes to t...   \n",
       "2          1                         Country | Support Ukraine!   \n",
       "3          1        How to not get bored when I know the notes?   \n",
       "4          1                                Scriabin op. 8 no.4   \n",
       "\n",
       "                                            selftext  \n",
       "0                                                NaN  \n",
       "1                                                NaN  \n",
       "2  &amp;#x200B;\\n\\n*Processing video x1asqw06miw8...  \n",
       "3  Hi, I find i practise a song a lot, get it dow...  \n",
       "4                *Processing video kedok3rgjiw81...*  "
      ]
     },
     "execution_count": 7,
     "metadata": {},
     "output_type": "execute_result"
    }
   ],
   "source": [
    "# Convert y_value into numeric for ease of analysis later on\n",
    "\n",
    "def y_convert(word):\n",
    "    if word == 'piano':\n",
    "        return 1\n",
    "    elif word == 'DRUM':\n",
    "        return 0\n",
    "\n",
    "instrument['subreddit'] = instrument['subreddit'].apply(y_convert)\n",
    "\n",
    "instrument.head()"
   ]
  },
  {
   "cell_type": "code",
   "execution_count": 8,
   "id": "d7f38303-2a2d-4757-a8c0-ff4e25fa7a0e",
   "metadata": {},
   "outputs": [
    {
     "data": {
      "text/plain": [
       "subreddit       0\n",
       "title           0\n",
       "selftext     5606\n",
       "dtype: int64"
      ]
     },
     "execution_count": 8,
     "metadata": {},
     "output_type": "execute_result"
    }
   ],
   "source": [
    "# Check null value\n",
    "instrument.isnull().sum()"
   ]
  },
  {
   "cell_type": "markdown",
   "id": "3c3dcefa-15dc-42ef-ad2f-3ec3af1bcf87",
   "metadata": {},
   "source": [
    "There are a lot of missing values in selftext, it's not appropriate to drop them since 5600 missing values means majority of the selftext are empty. If dropped, large amount of titles would be dropped at the same time.  \n",
    "Instead, let's replace them with empty strings so that all titles can be saved. "
   ]
  },
  {
   "cell_type": "code",
   "execution_count": 9,
   "id": "46cb5881-dad8-4dfa-9a04-f9a5b9f04fc0",
   "metadata": {},
   "outputs": [
    {
     "data": {
      "text/html": [
       "<div>\n",
       "<style scoped>\n",
       "    .dataframe tbody tr th:only-of-type {\n",
       "        vertical-align: middle;\n",
       "    }\n",
       "\n",
       "    .dataframe tbody tr th {\n",
       "        vertical-align: top;\n",
       "    }\n",
       "\n",
       "    .dataframe thead th {\n",
       "        text-align: right;\n",
       "    }\n",
       "</style>\n",
       "<table border=\"1\" class=\"dataframe\">\n",
       "  <thead>\n",
       "    <tr style=\"text-align: right;\">\n",
       "      <th></th>\n",
       "      <th>subreddit</th>\n",
       "      <th>title</th>\n",
       "      <th>selftext</th>\n",
       "    </tr>\n",
       "  </thead>\n",
       "  <tbody>\n",
       "    <tr>\n",
       "      <th>0</th>\n",
       "      <td>1</td>\n",
       "      <td>This is an original song made my me! I really ...</td>\n",
       "      <td></td>\n",
       "    </tr>\n",
       "    <tr>\n",
       "      <th>1</th>\n",
       "      <td>1</td>\n",
       "      <td>Pianist Tom Brier sight-reading the notes to t...</td>\n",
       "      <td></td>\n",
       "    </tr>\n",
       "    <tr>\n",
       "      <th>2</th>\n",
       "      <td>1</td>\n",
       "      <td>Country | Support Ukraine!</td>\n",
       "      <td>&amp;amp;#x200B;\\n\\n*Processing video x1asqw06miw8...</td>\n",
       "    </tr>\n",
       "    <tr>\n",
       "      <th>3</th>\n",
       "      <td>1</td>\n",
       "      <td>How to not get bored when I know the notes?</td>\n",
       "      <td>Hi, I find i practise a song a lot, get it dow...</td>\n",
       "    </tr>\n",
       "    <tr>\n",
       "      <th>4</th>\n",
       "      <td>1</td>\n",
       "      <td>Scriabin op. 8 no.4</td>\n",
       "      <td>*Processing video kedok3rgjiw81...*</td>\n",
       "    </tr>\n",
       "  </tbody>\n",
       "</table>\n",
       "</div>"
      ],
      "text/plain": [
       "   subreddit                                              title  \\\n",
       "0          1  This is an original song made my me! I really ...   \n",
       "1          1  Pianist Tom Brier sight-reading the notes to t...   \n",
       "2          1                         Country | Support Ukraine!   \n",
       "3          1        How to not get bored when I know the notes?   \n",
       "4          1                                Scriabin op. 8 no.4   \n",
       "\n",
       "                                            selftext  \n",
       "0                                                     \n",
       "1                                                     \n",
       "2  &amp;#x200B;\\n\\n*Processing video x1asqw06miw8...  \n",
       "3  Hi, I find i practise a song a lot, get it dow...  \n",
       "4                *Processing video kedok3rgjiw81...*  "
      ]
     },
     "execution_count": 9,
     "metadata": {},
     "output_type": "execute_result"
    }
   ],
   "source": [
    "instrument = instrument.fillna('')\n",
    "instrument.head()"
   ]
  },
  {
   "cell_type": "code",
   "execution_count": 10,
   "id": "ed2592c0-cdc3-431f-8826-4cc30e0227bd",
   "metadata": {},
   "outputs": [
    {
     "data": {
      "text/plain": [
       "(7926, 3)"
      ]
     },
     "execution_count": 10,
     "metadata": {},
     "output_type": "execute_result"
    }
   ],
   "source": [
    "instrument.shape"
   ]
  },
  {
   "cell_type": "markdown",
   "id": "d76e4ec2-cca8-4aa3-ab89-d2af10854988",
   "metadata": {},
   "source": [
    "## 2. Simple Model with Only One Feature"
   ]
  },
  {
   "cell_type": "markdown",
   "id": "dc40ee34-5c44-4eb0-9d80-2eb7edc08e23",
   "metadata": {},
   "source": [
    "In order to set the initial model, only 'title' are considered first since there's no missing values. "
   ]
  },
  {
   "cell_type": "code",
   "execution_count": 11,
   "id": "29ea5861-4b56-4344-a515-9faeeea2d39e",
   "metadata": {
    "tags": []
   },
   "outputs": [],
   "source": [
    "X = instrument['title']\n",
    "y = instrument['subreddit']\n",
    "\n",
    "X_train, X_test, y_train, y_test = train_test_split(X, y, random_state = 42, stratify = y)"
   ]
  },
  {
   "cell_type": "markdown",
   "id": "079e6dff-8e8e-4c18-9fc7-9e17235356c0",
   "metadata": {},
   "source": [
    "### 2.1. Initial Model"
   ]
  },
  {
   "cell_type": "markdown",
   "id": "dfb624f2-4f93-4063-becd-b1194158ab45",
   "metadata": {},
   "source": [
    "The purpose of initial model is to understand how the rough model performed on the dataset. At the same time, initial model helps us to understand the X and y and model performance. "
   ]
  },
  {
   "cell_type": "code",
   "execution_count": 12,
   "id": "3cac5cf5-a8fa-4048-ad4d-e43de5318062",
   "metadata": {},
   "outputs": [],
   "source": [
    "# Only constrain added was stop word of 'english'. This is the initial model, not many constrains added. \n",
    "pipe = make_pipeline(CountVectorizer(stop_words = 'english'), LogisticRegression(max_iter = 10000))"
   ]
  },
  {
   "cell_type": "code",
   "execution_count": 13,
   "id": "63917f9b-820d-4625-8367-3c722781d190",
   "metadata": {},
   "outputs": [
    {
     "data": {
      "text/plain": [
       "Pipeline(steps=[('countvectorizer', CountVectorizer(stop_words='english')),\n",
       "                ('logisticregression', LogisticRegression(max_iter=10000))])"
      ]
     },
     "execution_count": 13,
     "metadata": {},
     "output_type": "execute_result"
    }
   ],
   "source": [
    "pipe.fit(X_train, y_train)"
   ]
  },
  {
   "cell_type": "code",
   "execution_count": 14,
   "id": "7f4a4f97-35c5-4f04-9bee-633a8557d467",
   "metadata": {},
   "outputs": [
    {
     "data": {
      "text/plain": [
       "(0.9833445491251682, 0.9238143289606459)"
      ]
     },
     "execution_count": 14,
     "metadata": {},
     "output_type": "execute_result"
    }
   ],
   "source": [
    "pipe.score(X_train, y_train), pipe.score(X_test, y_test)"
   ]
  },
  {
   "cell_type": "code",
   "execution_count": 15,
   "id": "8f71672d-1132-4875-a3f2-e38db0fbcb6a",
   "metadata": {},
   "outputs": [
    {
     "data": {
      "text/plain": [
       "0.908141266888113"
      ]
     },
     "execution_count": 15,
     "metadata": {},
     "output_type": "execute_result"
    }
   ],
   "source": [
    "cross_val_score(pipe, X_train, y_train).mean()"
   ]
  },
  {
   "cell_type": "code",
   "execution_count": 16,
   "id": "543eccc4-d250-48ce-819a-7880273a33a2",
   "metadata": {
    "tags": []
   },
   "outputs": [
    {
     "data": {
      "image/png": "[encoded data removed]",
      "text/plain": [
       "<Figure size 432x288 with 2 Axes>"
      ]
     },
     "metadata": {
      "needs_background": "light"
     },
     "output_type": "display_data"
    }
   ],
   "source": [
    "ConfusionMatrixDisplay.from_estimator(pipe, X_test, y_test, cmap = 'Blues');"
   ]
  },
  {
   "cell_type": "code",
   "execution_count": 17,
   "id": "42416988-32e0-4f75-af35-61fe85c524bc",
   "metadata": {},
   "outputs": [
    {
     "data": {
      "text/plain": [
       "0.9238143289606459"
      ]
     },
     "execution_count": 17,
     "metadata": {},
     "output_type": "execute_result"
    }
   ],
   "source": [
    "accuracy_score(y_test, pipe.predict(X_test))"
   ]
  },
  {
   "cell_type": "markdown",
   "id": "6cd420b3-b432-478a-9a83-e273669820a1",
   "metadata": {},
   "source": [
    "The accuracy score is quite good. In order to find out why, common words are checked to explore the cause."
   ]
  },
  {
   "cell_type": "code",
   "execution_count": 18,
   "id": "bd4ad433-862b-4910-9ccd-737d4f9c971a",
   "metadata": {
    "tags": []
   },
   "outputs": [],
   "source": [
    "cv = CountVectorizer(stop_words = 'english')"
   ]
  },
  {
   "cell_type": "code",
   "execution_count": 19,
   "id": "f1238a07-c003-413a-8204-3586c897e1fd",
   "metadata": {
    "tags": []
   },
   "outputs": [],
   "source": [
    "X_train_cv = cv.fit_transform(X_train)"
   ]
  },
  {
   "cell_type": "code",
   "execution_count": 20,
   "id": "724f049b-07b1-40a2-9555-3bc68d41ce38",
   "metadata": {},
   "outputs": [],
   "source": [
    "df_text = pd.DataFrame(X_train_cv.A, columns = cv.get_feature_names_out())"
   ]
  },
  {
   "cell_type": "code",
   "execution_count": 21,
   "id": "d6f4427a-a370-45c7-a4a4-001ffd8d8460",
   "metadata": {
    "tags": []
   },
   "outputs": [
    {
     "data": {
      "text/plain": [
       "drum      1418\n",
       "piano      986\n",
       "cover      908\n",
       "music      319\n",
       "play       310\n",
       "          ... \n",
       "hone         1\n",
       "holmes       1\n",
       "hollow       1\n",
       "holder       1\n",
       "𝐓𝐡𝐞          1\n",
       "Length: 8306, dtype: int64"
      ]
     },
     "execution_count": 21,
     "metadata": {},
     "output_type": "execute_result"
    }
   ],
   "source": [
    "df_text.sum().sort_values(ascending = False)"
   ]
  },
  {
   "cell_type": "code",
   "execution_count": 71,
   "id": "71aee6c8-19a3-4a66-b844-974aa13bcd30",
   "metadata": {},
   "outputs": [
    {
     "data": {
      "image/png": "[encoded data removed]",
      "text/plain": [
       "<Figure size 1440x1080 with 1 Axes>"
      ]
     },
     "metadata": {
      "needs_background": "light"
     },
     "output_type": "display_data"
    }
   ],
   "source": [
    "df_text.sum().sort_values(ascending = False).head(20)\n",
    "\n",
    "common_word = pd.DataFrame(df_text.sum().sort_values(ascending = False).head(25), columns = ['Word Count'])\n",
    "common_word = common_word.reset_index()\n",
    "common_word.rename(columns = {'index': 'Word'}, inplace = True)\n",
    "common_word['Word']\n",
    "plt.figure(figsize = (20, 15))\n",
    "plt.barh(common_word['Word'], common_word['Word Count'])\n",
    "plt.title('The Word Count of Alll Data Collected', fontsize=20);\n",
    "plt.savefig('images/Word_Count.jpg');"
   ]
  },
  {
   "cell_type": "markdown",
   "id": "d044e9ca-28af-4288-9249-b476eed63a39",
   "metadata": {},
   "source": [
    "* Notice: the key words of 'piano' and 'drum' were the top words, which may significantly increase the accuracy rate. \n",
    "* The subreddits of piano and drum are selected for training the model. The model will apply to other subreddit in future. In order to increase the model compatibility，key words/most common words of 'piano' and 'drum' are added to stop words. And all the rest models would consider 'piano' and 'drum' as stop words. \n",
    "* The test size during X and y split was 0.33. "
   ]
  },
  {
   "cell_type": "markdown",
   "id": "4de64741-4683-4ba4-9fce-b7ab936359f8",
   "metadata": {},
   "source": [
    "### 2.2. Logistic Regression"
   ]
  },
  {
   "cell_type": "code",
   "execution_count": 422,
   "id": "67055591-0ef2-4212-8aed-aa4ebedfa825",
   "metadata": {},
   "outputs": [],
   "source": [
    "X = instrument['title']\n",
    "y = instrument['subreddit']\n",
    "\n",
    "X_train, X_test, y_train, y_test = train_test_split(X, y, random_state = 42, stratify = y, test_size = 0.33)"
   ]
  },
  {
   "cell_type": "code",
   "execution_count": 72,
   "id": "3c92da03-6085-4612-9d23-f5c94e4dc602",
   "metadata": {},
   "outputs": [
    {
     "data": {
      "text/plain": [
       "((5944,), (1982,))"
      ]
     },
     "execution_count": 72,
     "metadata": {},
     "output_type": "execute_result"
    }
   ],
   "source": [
    "# check the shape of train and test set. \n",
    "X_train.shape, X_test.shape"
   ]
  },
  {
   "cell_type": "code",
   "execution_count": 73,
   "id": "dafd217c-f170-4045-af39-f9917fe11904",
   "metadata": {
    "tags": []
   },
   "outputs": [
    {
     "data": {
      "text/plain": [
       "1    0.517159\n",
       "0    0.482841\n",
       "Name: subreddit, dtype: float64"
      ]
     },
     "execution_count": 73,
     "metadata": {},
     "output_type": "execute_result"
    }
   ],
   "source": [
    "# Baseline accuracy\n",
    "base = y.value_counts(normalize = True)\n",
    "base"
   ]
  },
  {
   "cell_type": "code",
   "execution_count": 74,
   "id": "266bf6b2-d2c0-4024-be81-2fab24be9133",
   "metadata": {
    "tags": []
   },
   "outputs": [],
   "source": [
    "# add stop words\n",
    "stop_words = stopwords.words('english')\n",
    "\n",
    "add_stop_words = ['drum', 'piano']\n",
    "\n",
    "for word in add_stop_words: \n",
    "    stop_words.append(word)"
   ]
  },
  {
   "cell_type": "markdown",
   "id": "909a5b7d-c920-4f15-bc67-e46f5e0f0485",
   "metadata": {},
   "source": [
    "#### Lemmatizer test"
   ]
  },
  {
   "cell_type": "markdown",
   "id": "22cfbaff-895b-491e-9ea0-49e54719d7ce",
   "metadata": {},
   "source": [
    "In order to decide if Lemmatizer is needed in the model, it's been tested here to compare with the model without Lemmatizer because Lemmatizer is not always improve the model accuracy. "
   ]
  },
  {
   "cell_type": "code",
   "execution_count": 393,
   "id": "4d371d0c-c0d5-49e8-8503-63263801b4bc",
   "metadata": {
    "tags": []
   },
   "outputs": [
    {
     "name": "stderr",
     "output_type": "stream",
     "text": [
      "[nltk_data] Downloading package wordnet to /Users/AndyXu/nltk_data...\n",
      "[nltk_data]   Package wordnet is already up-to-date!\n",
      "[nltk_data] Downloading package omw-1.4 to /Users/AndyXu/nltk_data...\n",
      "[nltk_data]   Package omw-1.4 is already up-to-date!\n",
      "[nltk_data] Downloading package punkt to /Users/AndyXu/nltk_data...\n",
      "[nltk_data]   Unzipping tokenizers/punkt.zip.\n"
     ]
    },
    {
     "data": {
      "text/plain": [
       "True"
      ]
     },
     "execution_count": 393,
     "metadata": {},
     "output_type": "execute_result"
    }
   ],
   "source": [
    "import nltk\n",
    "nltk.download('wordnet') \n",
    "nltk.download('omw-1.4')\n",
    "nltk.download('punkt')"
   ]
  },
  {
   "cell_type": "code",
   "execution_count": 394,
   "id": "9660f8c5-a1cf-4712-ac56-21f9f8f4804a",
   "metadata": {},
   "outputs": [],
   "source": [
    "def lemma_tokenizer(doc):\n",
    "    wnl = WordNetLemmatizer()\n",
    "    return[  wnl.lemmatize(w) for w in word_tokenize(doc)  ]"
   ]
  },
  {
   "cell_type": "code",
   "execution_count": 395,
   "id": "da3b04b9-c0c6-4cd3-b0a0-5e790d5efa48",
   "metadata": {
    "tags": []
   },
   "outputs": [],
   "source": [
    "pipe1 = make_pipeline(CountVectorizer(stop_words = stop_words, tokenizer = lemma_tokenizer, min_df = 2), \n",
    "                      LogisticRegression(max_iter = 10000))"
   ]
  },
  {
   "cell_type": "code",
   "execution_count": 398,
   "id": "57fa1cf4-d328-401a-a26c-72ae04dfac56",
   "metadata": {},
   "outputs": [
    {
     "data": {
      "text/plain": [
       "Pipeline(steps=[('countvectorizer',\n",
       "                 CountVectorizer(min_df=2,\n",
       "                                 stop_words=['i', 'me', 'my', 'myself', 'we',\n",
       "                                             'our', 'ours', 'ourselves', 'you',\n",
       "                                             \"you're\", \"you've\", \"you'll\",\n",
       "                                             \"you'd\", 'your', 'yours',\n",
       "                                             'yourself', 'yourselves', 'he',\n",
       "                                             'him', 'his', 'himself', 'she',\n",
       "                                             \"she's\", 'her', 'hers', 'herself',\n",
       "                                             'it', \"it's\", 'its', 'itself', ...],\n",
       "                                 tokenizer=<function lemma_tokenizer at 0x148db9ee0>)),\n",
       "                ('logisticregression', LogisticRegression(max_iter=10000))])"
      ]
     },
     "execution_count": 398,
     "metadata": {},
     "output_type": "execute_result"
    }
   ],
   "source": [
    "pipe1.fit(X_train, y_train)"
   ]
  },
  {
   "cell_type": "code",
   "execution_count": 399,
   "id": "9d0d3492-a6fe-4f31-b240-eb6364219619",
   "metadata": {},
   "outputs": [
    {
     "data": {
      "text/plain": [
       "(0.9391713747645951, 0.8654434250764526)"
      ]
     },
     "execution_count": 399,
     "metadata": {},
     "output_type": "execute_result"
    }
   ],
   "source": [
    "pipe1.score(X_train, y_train), pipe1.score(X_test, y_test)"
   ]
  },
  {
   "cell_type": "code",
   "execution_count": 400,
   "id": "8bffe445-a82e-4c14-ba87-12f2cec421e7",
   "metadata": {
    "tags": []
   },
   "outputs": [
    {
     "name": "stderr",
     "output_type": "stream",
     "text": [
      "/opt/anaconda3/lib/python3.9/site-packages/sklearn/feature_extraction/text.py:396: UserWarning: Your stop_words may be inconsistent with your preprocessing. Tokenizing the stop words generated tokens [\"'d\", \"'ll\", \"'re\", \"'s\", \"'ve\", 'could', 'doe', 'ha', 'might', 'must', \"n't\", 'need', 'sha', 'wa', 'wo', 'would'] not in stop_words.\n",
      "  warnings.warn(\n",
      "/opt/anaconda3/lib/python3.9/site-packages/sklearn/feature_extraction/text.py:396: UserWarning: Your stop_words may be inconsistent with your preprocessing. Tokenizing the stop words generated tokens [\"'d\", \"'ll\", \"'re\", \"'s\", \"'ve\", 'could', 'doe', 'ha', 'might', 'must', \"n't\", 'need', 'sha', 'wa', 'wo', 'would'] not in stop_words.\n",
      "  warnings.warn(\n",
      "/opt/anaconda3/lib/python3.9/site-packages/sklearn/feature_extraction/text.py:396: UserWarning: Your stop_words may be inconsistent with your preprocessing. Tokenizing the stop words generated tokens [\"'d\", \"'ll\", \"'re\", \"'s\", \"'ve\", 'could', 'doe', 'ha', 'might', 'must', \"n't\", 'need', 'sha', 'wa', 'wo', 'would'] not in stop_words.\n",
      "  warnings.warn(\n",
      "/opt/anaconda3/lib/python3.9/site-packages/sklearn/feature_extraction/text.py:396: UserWarning: Your stop_words may be inconsistent with your preprocessing. Tokenizing the stop words generated tokens [\"'d\", \"'ll\", \"'re\", \"'s\", \"'ve\", 'could', 'doe', 'ha', 'might', 'must', \"n't\", 'need', 'sha', 'wa', 'wo', 'would'] not in stop_words.\n",
      "  warnings.warn(\n",
      "/opt/anaconda3/lib/python3.9/site-packages/sklearn/feature_extraction/text.py:396: UserWarning: Your stop_words may be inconsistent with your preprocessing. Tokenizing the stop words generated tokens [\"'d\", \"'ll\", \"'re\", \"'s\", \"'ve\", 'could', 'doe', 'ha', 'might', 'must', \"n't\", 'need', 'sha', 'wa', 'wo', 'would'] not in stop_words.\n",
      "  warnings.warn(\n",
      "/opt/anaconda3/lib/python3.9/site-packages/sklearn/feature_extraction/text.py:396: UserWarning: Your stop_words may be inconsistent with your preprocessing. Tokenizing the stop words generated tokens [\"'d\", \"'ll\", \"'re\", \"'s\", \"'ve\", 'could', 'doe', 'ha', 'might', 'must', \"n't\", 'need', 'sha', 'wa', 'wo', 'would'] not in stop_words.\n",
      "  warnings.warn(\n",
      "/opt/anaconda3/lib/python3.9/site-packages/sklearn/feature_extraction/text.py:396: UserWarning: Your stop_words may be inconsistent with your preprocessing. Tokenizing the stop words generated tokens [\"'d\", \"'ll\", \"'re\", \"'s\", \"'ve\", 'could', 'doe', 'ha', 'might', 'must', \"n't\", 'need', 'sha', 'wa', 'wo', 'would'] not in stop_words.\n",
      "  warnings.warn(\n",
      "/opt/anaconda3/lib/python3.9/site-packages/sklearn/feature_extraction/text.py:396: UserWarning: Your stop_words may be inconsistent with your preprocessing. Tokenizing the stop words generated tokens [\"'d\", \"'ll\", \"'re\", \"'s\", \"'ve\", 'could', 'doe', 'ha', 'might', 'must', \"n't\", 'need', 'sha', 'wa', 'wo', 'would'] not in stop_words.\n",
      "  warnings.warn(\n",
      "/opt/anaconda3/lib/python3.9/site-packages/sklearn/feature_extraction/text.py:396: UserWarning: Your stop_words may be inconsistent with your preprocessing. Tokenizing the stop words generated tokens [\"'d\", \"'ll\", \"'re\", \"'s\", \"'ve\", 'could', 'doe', 'ha', 'might', 'must', \"n't\", 'need', 'sha', 'wa', 'wo', 'would'] not in stop_words.\n",
      "  warnings.warn(\n",
      "/opt/anaconda3/lib/python3.9/site-packages/sklearn/feature_extraction/text.py:396: UserWarning: Your stop_words may be inconsistent with your preprocessing. Tokenizing the stop words generated tokens [\"'d\", \"'ll\", \"'re\", \"'s\", \"'ve\", 'could', 'doe', 'ha', 'might', 'must', \"n't\", 'need', 'sha', 'wa', 'wo', 'would'] not in stop_words.\n",
      "  warnings.warn(\n"
     ]
    },
    {
     "data": {
      "text/plain": [
       "(0.8531073446327684, 0.842887481207946)"
      ]
     },
     "execution_count": 400,
     "metadata": {},
     "output_type": "execute_result"
    }
   ],
   "source": [
    "cross_val_score(pipe1, X_train, y_train).mean(), cross_val_score(pipe1, X_test, y_test).mean()"
   ]
  },
  {
   "cell_type": "markdown",
   "id": "c47848ca-1c52-4031-b920-3a775bdd362d",
   "metadata": {},
   "source": [
    "Lemmatizer does not improve the accuracy score. \n",
    "Not just LogisticRegression - CountVectorizer model, Lemmatizer is also tried in other model. The results don't show improvement. \n",
    "So, Lemmatizer is dropped. "
   ]
  },
  {
   "cell_type": "markdown",
   "id": "70661c5d-4b5f-4f5d-b7b4-21c1d01ab105",
   "metadata": {},
   "source": [
    "#### 2.2.1. CountVectorizer + LogisticRegression"
   ]
  },
  {
   "cell_type": "code",
   "execution_count": 402,
   "id": "b7793045-89f0-40e3-9195-4269f8913a4c",
   "metadata": {
    "tags": []
   },
   "outputs": [
    {
     "data": {
      "text/plain": [
       "Pipeline(steps=[('countvectorizer',\n",
       "                 CountVectorizer(min_df=2,\n",
       "                                 stop_words=['i', 'me', 'my', 'myself', 'we',\n",
       "                                             'our', 'ours', 'ourselves', 'you',\n",
       "                                             \"you're\", \"you've\", \"you'll\",\n",
       "                                             \"you'd\", 'your', 'yours',\n",
       "                                             'yourself', 'yourselves', 'he',\n",
       "                                             'him', 'his', 'himself', 'she',\n",
       "                                             \"she's\", 'her', 'hers', 'herself',\n",
       "                                             'it', \"it's\", 'its', 'itself', ...])),\n",
       "                ('logisticregression', LogisticRegression(max_iter=10000))])"
      ]
     },
     "execution_count": 402,
     "metadata": {},
     "output_type": "execute_result"
    }
   ],
   "source": [
    "pipe1 = make_pipeline(CountVectorizer(stop_words = stop_words, min_df = 2), LogisticRegression(max_iter = 10000))\n",
    "pipe1.fit(X_train, y_train)"
   ]
  },
  {
   "cell_type": "code",
   "execution_count": 403,
   "id": "49af89fd-b6b8-4e27-a937-04e45913a6a0",
   "metadata": {},
   "outputs": [
    {
     "data": {
      "text/plain": [
       "(0.9463276836158192, 0.8772935779816514)"
      ]
     },
     "execution_count": 403,
     "metadata": {},
     "output_type": "execute_result"
    }
   ],
   "source": [
    "pipe1.score(X_train, y_train), pipe1.score(X_test, y_test)"
   ]
  },
  {
   "cell_type": "code",
   "execution_count": 429,
   "id": "b01fa075-efa1-47e9-b35c-777e0c7eda10",
   "metadata": {},
   "outputs": [
    {
     "data": {
      "text/plain": [
       "(0.8668549905838041, 0.8528235517347074)"
      ]
     },
     "execution_count": 429,
     "metadata": {},
     "output_type": "execute_result"
    }
   ],
   "source": [
    "log_cv_train = cross_val_score(pipe1, X_train, y_train).mean()\n",
    "log_cv_test = cross_val_score(pipe1, X_test, y_test).mean()\n",
    "log_cv_train, log_cv_test"
   ]
  },
  {
   "cell_type": "code",
   "execution_count": 462,
   "id": "c8dc4a16-2c4c-4b65-903c-d6db68853135",
   "metadata": {
    "tags": []
   },
   "outputs": [
    {
     "data": {
      "image/png": "[encoded data removed]",
      "text/plain": [
       "<Figure size 432x288 with 2 Axes>"
      ]
     },
     "metadata": {
      "needs_background": "light"
     },
     "output_type": "display_data"
    }
   ],
   "source": [
    "log_cv_conf = ConfusionMatrixDisplay.from_estimator(pipe1, X_test, y_test, \n",
    "                                      display_labels = ['drum', 'piano'], cmap = 'Oranges', normalize = 'true')\n",
    "log_cv_conf\n",
    "plt.title('Confusion Matrix: Countvectorizer and Logistic Regression');"
   ]
  },
  {
   "cell_type": "code",
   "execution_count": 463,
   "id": "156a05df-cd43-41d1-b65b-3d0cb97b59ea",
   "metadata": {},
   "outputs": [],
   "source": [
    "log_cv_conf.figure_.savefig('./images/log_cv_conf.jpg',dpi = 100)"
   ]
  },
  {
   "cell_type": "code",
   "execution_count": 165,
   "id": "9c6750b1-0d22-4949-897e-26bb8ffe6444",
   "metadata": {
    "tags": []
   },
   "outputs": [
    {
     "data": {
      "text/plain": [
       "0.8772935779816514"
      ]
     },
     "execution_count": 165,
     "metadata": {},
     "output_type": "execute_result"
    }
   ],
   "source": [
    "accuracy_score(y_test, pipe1.predict(X_test))"
   ]
  },
  {
   "cell_type": "markdown",
   "id": "ef49102e-0696-4d16-9981-a7e1479111ba",
   "metadata": {},
   "source": [
    "Based on the confusion matrix, FP is what we want to reduce."
   ]
  },
  {
   "cell_type": "markdown",
   "id": "e73c0b4c-1397-4d4d-b318-a2798e44c10e",
   "metadata": {},
   "source": [
    "#### 2.2.2. TfidfVectorizer + LogisticRegression"
   ]
  },
  {
   "cell_type": "markdown",
   "id": "52f2a23d-ce80-4d6d-98be-c3ac021e7b7d",
   "metadata": {},
   "source": [
    "Similar situation happened to TfidfVectorizer, the lemma tokenizer does not imporve the model accuracy. "
   ]
  },
  {
   "cell_type": "code",
   "execution_count": 446,
   "id": "5e054829-0c01-4fd4-ab62-87e19c65f6dd",
   "metadata": {
    "tags": []
   },
   "outputs": [],
   "source": [
    "pipe2 = make_pipeline(TfidfVectorizer(stop_words = stop_words, min_df = 2), LogisticRegression(max_iter = 10000))"
   ]
  },
  {
   "cell_type": "code",
   "execution_count": 447,
   "id": "5b63f0a6-9ed9-42be-9034-02799e9d716f",
   "metadata": {},
   "outputs": [
    {
     "data": {
      "text/plain": [
       "Pipeline(steps=[('tfidfvectorizer',\n",
       "                 TfidfVectorizer(min_df=2,\n",
       "                                 stop_words=['i', 'me', 'my', 'myself', 'we',\n",
       "                                             'our', 'ours', 'ourselves', 'you',\n",
       "                                             \"you're\", \"you've\", \"you'll\",\n",
       "                                             \"you'd\", 'your', 'yours',\n",
       "                                             'yourself', 'yourselves', 'he',\n",
       "                                             'him', 'his', 'himself', 'she',\n",
       "                                             \"she's\", 'her', 'hers', 'herself',\n",
       "                                             'it', \"it's\", 'its', 'itself', ...])),\n",
       "                ('logisticregression', LogisticRegression(max_iter=10000))])"
      ]
     },
     "execution_count": 447,
     "metadata": {},
     "output_type": "execute_result"
    }
   ],
   "source": [
    "pipe2.fit(X_train, y_train)"
   ]
  },
  {
   "cell_type": "code",
   "execution_count": 448,
   "id": "6cc7555a-150c-43d1-84dc-89a6be1897b8",
   "metadata": {
    "tags": []
   },
   "outputs": [
    {
     "data": {
      "text/plain": [
       "(0.9310734463276836, 0.8814984709480123)"
      ]
     },
     "execution_count": 448,
     "metadata": {},
     "output_type": "execute_result"
    }
   ],
   "source": [
    "pipe2.score(X_train, y_train), pipe2.score(X_test, y_test)"
   ]
  },
  {
   "cell_type": "code",
   "execution_count": 449,
   "id": "5f878447-cb3a-466c-9eca-a7ff473e1a43",
   "metadata": {},
   "outputs": [
    {
     "data": {
      "text/plain": [
       "(0.8668549905838041, 0.8528235517347074)"
      ]
     },
     "execution_count": 449,
     "metadata": {},
     "output_type": "execute_result"
    }
   ],
   "source": [
    "log_tf_train = cross_val_score(pipe2, X_train, y_train).mean()\n",
    "log_tf_test = cross_val_score(pipe2, X_test, y_test).mean()\n",
    "log_cv_train, log_cv_test"
   ]
  },
  {
   "cell_type": "code",
   "execution_count": 464,
   "id": "baaf3a2e-126f-46e0-81d3-1471f7f88364",
   "metadata": {
    "tags": []
   },
   "outputs": [
    {
     "data": {
      "image/png": "[encoded data removed]",
      "text/plain": [
       "<Figure size 432x288 with 2 Axes>"
      ]
     },
     "metadata": {
      "needs_background": "light"
     },
     "output_type": "display_data"
    }
   ],
   "source": [
    "log_tf_conf = ConfusionMatrixDisplay.from_estimator(pipe2, X_test, y_test, \n",
    "                                      display_labels = ['drum', 'piano'], cmap = 'Oranges', normalize = 'true')\n",
    "log_tf_conf\n",
    "plt.title('Confusion Matrix: Tfidfvectorizer and Logistic Regression');"
   ]
  },
  {
   "cell_type": "code",
   "execution_count": 465,
   "id": "5f0ad287-81ef-4099-b90e-6586e7f7db00",
   "metadata": {},
   "outputs": [],
   "source": [
    "log_tf_conf.figure_.savefig('./images/log_tf_conf.jpg',dpi = 100)"
   ]
  },
  {
   "cell_type": "code",
   "execution_count": 173,
   "id": "81260930-6aa3-4318-bd63-91c36f839e1e",
   "metadata": {},
   "outputs": [
    {
     "data": {
      "text/plain": [
       "0.8814984709480123"
      ]
     },
     "execution_count": 173,
     "metadata": {},
     "output_type": "execute_result"
    }
   ],
   "source": [
    "accuracy_score(y_test, pipe2.predict(X_test))"
   ]
  },
  {
   "cell_type": "markdown",
   "id": "7695fd28-101d-41da-b6de-8fbce6d8d5ac",
   "metadata": {},
   "source": [
    "#### 2.2.3. Grid Search: CountVectorizer + LogisticRegression"
   ]
  },
  {
   "cell_type": "code",
   "execution_count": 174,
   "id": "7fc2958e-74d1-4358-bdf8-8fd63567073a",
   "metadata": {},
   "outputs": [
    {
     "data": {
      "text/plain": [
       "dict_keys(['memory', 'steps', 'verbose', 'countvectorizer', 'logisticregression', 'countvectorizer__analyzer', 'countvectorizer__binary', 'countvectorizer__decode_error', 'countvectorizer__dtype', 'countvectorizer__encoding', 'countvectorizer__input', 'countvectorizer__lowercase', 'countvectorizer__max_df', 'countvectorizer__max_features', 'countvectorizer__min_df', 'countvectorizer__ngram_range', 'countvectorizer__preprocessor', 'countvectorizer__stop_words', 'countvectorizer__strip_accents', 'countvectorizer__token_pattern', 'countvectorizer__tokenizer', 'countvectorizer__vocabulary', 'logisticregression__C', 'logisticregression__class_weight', 'logisticregression__dual', 'logisticregression__fit_intercept', 'logisticregression__intercept_scaling', 'logisticregression__l1_ratio', 'logisticregression__max_iter', 'logisticregression__multi_class', 'logisticregression__n_jobs', 'logisticregression__penalty', 'logisticregression__random_state', 'logisticregression__solver', 'logisticregression__tol', 'logisticregression__verbose', 'logisticregression__warm_start'])"
      ]
     },
     "execution_count": 174,
     "metadata": {},
     "output_type": "execute_result"
    }
   ],
   "source": [
    "pipe1.get_params().keys()"
   ]
  },
  {
   "cell_type": "code",
   "execution_count": 221,
   "id": "12ac9eb0-aeef-409e-9aac-ce40706496f9",
   "metadata": {},
   "outputs": [],
   "source": [
    "param_grid1 = {\n",
    "    'countvectorizer__ngram_range': [(1, 1), (1, 2), (1, 3), (2, 2), (2, 3), (3, 3)], \n",
    "    'countvectorizer__min_df': [1, 2, 3, 4, 5], \n",
    "    'logisticregression__C': [0.1, 0.5, 1.0, 1.5],\n",
    "             }"
   ]
  },
  {
   "cell_type": "code",
   "execution_count": 222,
   "id": "b7d796ab-b297-4939-8bb4-5a3d7a9a5c43",
   "metadata": {},
   "outputs": [],
   "source": [
    "gs1 = GridSearchCV(pipe1, param_grid = param_grid1, n_jobs = -1)"
   ]
  },
  {
   "cell_type": "code",
   "execution_count": 223,
   "id": "0b06e8e1-7b5d-4f77-87d7-b77dfe88b769",
   "metadata": {},
   "outputs": [
    {
     "data": {
      "text/plain": [
       "GridSearchCV(estimator=Pipeline(steps=[('countvectorizer',\n",
       "                                        CountVectorizer(min_df=2,\n",
       "                                                        stop_words=['i', 'me',\n",
       "                                                                    'my',\n",
       "                                                                    'myself',\n",
       "                                                                    'we', 'our',\n",
       "                                                                    'ours',\n",
       "                                                                    'ourselves',\n",
       "                                                                    'you',\n",
       "                                                                    \"you're\",\n",
       "                                                                    \"you've\",\n",
       "                                                                    \"you'll\",\n",
       "                                                                    \"you'd\",\n",
       "                                                                    'your',\n",
       "                                                                    'yours',\n",
       "                                                                    'yourself',\n",
       "                                                                    'yourselves',\n",
       "                                                                    'he', 'him',\n",
       "                                                                    'his',\n",
       "                                                                    'himself',\n",
       "                                                                    'she',\n",
       "                                                                    \"she's\",\n",
       "                                                                    'her',\n",
       "                                                                    'hers',\n",
       "                                                                    'herself',\n",
       "                                                                    'it',\n",
       "                                                                    \"it's\",\n",
       "                                                                    'its',\n",
       "                                                                    'itself', ...])),\n",
       "                                       ('logisticregression',\n",
       "                                        LogisticRegression(max_iter=10000))]),\n",
       "             n_jobs=-1,\n",
       "             param_grid={'countvectorizer__min_df': [2, 3, 4, 5],\n",
       "                         'countvectorizer__ngram_range': [(1, 1), (1, 2),\n",
       "                                                          (1, 3), (2, 2),\n",
       "                                                          (2, 3), (3, 3)],\n",
       "                         'logisticregression__C': [0.1, 0.5, 1.0, 1.5]})"
      ]
     },
     "execution_count": 223,
     "metadata": {},
     "output_type": "execute_result"
    }
   ],
   "source": [
    "gs1.fit(X_train, y_train)"
   ]
  },
  {
   "cell_type": "code",
   "execution_count": 224,
   "id": "43a156fd-c42e-4478-ab75-a8d8dd1fbc0f",
   "metadata": {
    "tags": []
   },
   "outputs": [
    {
     "data": {
      "text/plain": [
       "{'countvectorizer__min_df': 2,\n",
       " 'countvectorizer__ngram_range': (1, 3),\n",
       " 'logisticregression__C': 1.5}"
      ]
     },
     "execution_count": 224,
     "metadata": {},
     "output_type": "execute_result"
    }
   ],
   "source": [
    "gs1.best_params_"
   ]
  },
  {
   "cell_type": "markdown",
   "id": "521a8b3a-96bf-498c-8eef-8f0bbc0aebe2",
   "metadata": {},
   "source": [
    "* ngram_range: It's combination of unigram, bigram and trigram. \n",
    "* min_df is set to 2 for all models."
   ]
  },
  {
   "cell_type": "code",
   "execution_count": 494,
   "id": "d45dab06-fda8-4a64-aaa5-6000f61a6556",
   "metadata": {
    "tags": []
   },
   "outputs": [
    {
     "data": {
      "text/plain": [
       "(0.8677966101694915, 0.8528220921576926)"
      ]
     },
     "execution_count": 494,
     "metadata": {},
     "output_type": "execute_result"
    }
   ],
   "source": [
    "log_cv_gs_train = gs1.best_score_\n",
    "log_cv_gs_test = cross_val_score(gs1.best_estimator_, X_test, y_test).mean()\n",
    "log_cv_gs_train, log_cv_gs_test"
   ]
  },
  {
   "cell_type": "code",
   "execution_count": 226,
   "id": "b054c85f-65ba-409f-b46c-fd9e4bc65b68",
   "metadata": {
    "tags": []
   },
   "outputs": [
    {
     "data": {
      "text/plain": [
       "(0.9629001883239171, 0.8784403669724771)"
      ]
     },
     "execution_count": 226,
     "metadata": {},
     "output_type": "execute_result"
    }
   ],
   "source": [
    "gs1.score(X_train, y_train), gs1.score(X_test, y_test)"
   ]
  },
  {
   "cell_type": "code",
   "execution_count": 466,
   "id": "bb816242-a123-4579-8371-d72f145993f9",
   "metadata": {
    "tags": []
   },
   "outputs": [
    {
     "data": {
      "image/png": "[encoded data removed]",
      "text/plain": [
       "<Figure size 432x288 with 2 Axes>"
      ]
     },
     "metadata": {
      "needs_background": "light"
     },
     "output_type": "display_data"
    }
   ],
   "source": [
    "log_cv_gs_conf = ConfusionMatrixDisplay.from_estimator(gs1, X_test, y_test, \n",
    "                                      display_labels = ['drum', 'piano'], cmap = 'Oranges', normalize = 'true')\n",
    "log_cv_gs_conf\n",
    "plt.title('Grid Search Confusion Matrix: Countvectorizer and Logistic Regression');"
   ]
  },
  {
   "cell_type": "code",
   "execution_count": 467,
   "id": "98045649-6c43-42dd-9732-b1a69588ffe6",
   "metadata": {},
   "outputs": [],
   "source": [
    "log_cv_gs_conf.figure_.savefig('./images/log_cv_gs_conf.jpg',dpi = 100)"
   ]
  },
  {
   "cell_type": "markdown",
   "id": "0985a80e-3b31-47f8-abd5-fb372742d8fd",
   "metadata": {},
   "source": [
    "#### 2.2.4. Grid Search: TfidfVectorizer + LogisticRegression"
   ]
  },
  {
   "cell_type": "code",
   "execution_count": 189,
   "id": "a7db6ecc-8c6d-46c4-934d-16f53eae10b5",
   "metadata": {},
   "outputs": [
    {
     "data": {
      "text/plain": [
       "dict_keys(['memory', 'steps', 'verbose', 'tfidfvectorizer', 'logisticregression', 'tfidfvectorizer__analyzer', 'tfidfvectorizer__binary', 'tfidfvectorizer__decode_error', 'tfidfvectorizer__dtype', 'tfidfvectorizer__encoding', 'tfidfvectorizer__input', 'tfidfvectorizer__lowercase', 'tfidfvectorizer__max_df', 'tfidfvectorizer__max_features', 'tfidfvectorizer__min_df', 'tfidfvectorizer__ngram_range', 'tfidfvectorizer__norm', 'tfidfvectorizer__preprocessor', 'tfidfvectorizer__smooth_idf', 'tfidfvectorizer__stop_words', 'tfidfvectorizer__strip_accents', 'tfidfvectorizer__sublinear_tf', 'tfidfvectorizer__token_pattern', 'tfidfvectorizer__tokenizer', 'tfidfvectorizer__use_idf', 'tfidfvectorizer__vocabulary', 'logisticregression__C', 'logisticregression__class_weight', 'logisticregression__dual', 'logisticregression__fit_intercept', 'logisticregression__intercept_scaling', 'logisticregression__l1_ratio', 'logisticregression__max_iter', 'logisticregression__multi_class', 'logisticregression__n_jobs', 'logisticregression__penalty', 'logisticregression__random_state', 'logisticregression__solver', 'logisticregression__tol', 'logisticregression__verbose', 'logisticregression__warm_start'])"
      ]
     },
     "execution_count": 189,
     "metadata": {},
     "output_type": "execute_result"
    }
   ],
   "source": [
    "pipe2.get_params().keys()"
   ]
  },
  {
   "cell_type": "code",
   "execution_count": 215,
   "id": "b738df40-d2ce-4f47-b7ad-1bdf745f83b0",
   "metadata": {},
   "outputs": [],
   "source": [
    "param_grid2 = {\n",
    "    'tfidfvectorizer__ngram_range': [(1, 1), (1, 2), (1, 3), (2, 2), (2, 3), (3, 3)], \n",
    "    'tfidfvectorizer__min_df': [1, 2, 3, 4, 5], \n",
    "    'logisticregression__C': [0.1, 0.5, 1.0, 1.5],\n",
    "             }"
   ]
  },
  {
   "cell_type": "code",
   "execution_count": 216,
   "id": "4f434142-5552-46ba-80c8-9e9104fea14c",
   "metadata": {},
   "outputs": [],
   "source": [
    "gs2 = GridSearchCV(pipe2, param_grid = param_grid2, n_jobs = -1)"
   ]
  },
  {
   "cell_type": "code",
   "execution_count": 217,
   "id": "ee706f11-f019-49d3-9745-eec1caf79281",
   "metadata": {},
   "outputs": [
    {
     "data": {
      "text/plain": [
       "GridSearchCV(estimator=Pipeline(steps=[('tfidfvectorizer',\n",
       "                                        TfidfVectorizer(min_df=2,\n",
       "                                                        stop_words=['i', 'me',\n",
       "                                                                    'my',\n",
       "                                                                    'myself',\n",
       "                                                                    'we', 'our',\n",
       "                                                                    'ours',\n",
       "                                                                    'ourselves',\n",
       "                                                                    'you',\n",
       "                                                                    \"you're\",\n",
       "                                                                    \"you've\",\n",
       "                                                                    \"you'll\",\n",
       "                                                                    \"you'd\",\n",
       "                                                                    'your',\n",
       "                                                                    'yours',\n",
       "                                                                    'yourself',\n",
       "                                                                    'yourselves',\n",
       "                                                                    'he', 'him',\n",
       "                                                                    'his',\n",
       "                                                                    'himself',\n",
       "                                                                    'she',\n",
       "                                                                    \"she's\",\n",
       "                                                                    'her',\n",
       "                                                                    'hers',\n",
       "                                                                    'herself',\n",
       "                                                                    'it',\n",
       "                                                                    \"it's\",\n",
       "                                                                    'its',\n",
       "                                                                    'itself', ...])),\n",
       "                                       ('logisticregression',\n",
       "                                        LogisticRegression(max_iter=10000))]),\n",
       "             n_jobs=-1,\n",
       "             param_grid={'logisticregression__C': [0.1, 0.5, 1.0, 1.5],\n",
       "                         'tfidfvectorizer__min_df': [2, 3, 4, 5],\n",
       "                         'tfidfvectorizer__ngram_range': [(1, 1), (1, 2),\n",
       "                                                          (1, 3), (2, 2),\n",
       "                                                          (2, 3), (3, 3)]})"
      ]
     },
     "execution_count": 217,
     "metadata": {},
     "output_type": "execute_result"
    }
   ],
   "source": [
    "gs2.fit(X_train, y_train)"
   ]
  },
  {
   "cell_type": "code",
   "execution_count": 218,
   "id": "bfb37d3a-2d99-4a72-90c5-5be91b985005",
   "metadata": {
    "tags": []
   },
   "outputs": [
    {
     "data": {
      "text/plain": [
       "{'logisticregression__C': 1.5,\n",
       " 'tfidfvectorizer__min_df': 2,\n",
       " 'tfidfvectorizer__ngram_range': (1, 1)}"
      ]
     },
     "execution_count": 218,
     "metadata": {},
     "output_type": "execute_result"
    }
   ],
   "source": [
    "gs2.best_params_"
   ]
  },
  {
   "cell_type": "code",
   "execution_count": 495,
   "id": "3916e1b0-d5fd-4e94-8544-f1f6e3ed2e9e",
   "metadata": {},
   "outputs": [
    {
     "data": {
      "text/plain": [
       "(0.868361581920904, 0.8558864740998059)"
      ]
     },
     "execution_count": 495,
     "metadata": {},
     "output_type": "execute_result"
    }
   ],
   "source": [
    "log_tf_gs_train = gs2.best_score_\n",
    "log_tf_gs_test = cross_val_score(gs2.best_estimator_, X_test, y_test).mean()\n",
    "log_tf_gs_train, log_tf_gs_test"
   ]
  },
  {
   "cell_type": "code",
   "execution_count": 220,
   "id": "144e863a-b522-45c9-a69d-3bf9cba5cba2",
   "metadata": {},
   "outputs": [
    {
     "data": {
      "text/plain": [
       "(0.9391713747645951, 0.8803516819571865)"
      ]
     },
     "execution_count": 220,
     "metadata": {},
     "output_type": "execute_result"
    }
   ],
   "source": [
    "gs2.score(X_train, y_train), gs2.score(X_test, y_test)"
   ]
  },
  {
   "cell_type": "code",
   "execution_count": 468,
   "id": "23b9262b-2dbd-421a-96b4-15e5b9217315",
   "metadata": {},
   "outputs": [
    {
     "data": {
      "image/png": "[encoded data removed]",
      "text/plain": [
       "<Figure size 432x288 with 2 Axes>"
      ]
     },
     "metadata": {
      "needs_background": "light"
     },
     "output_type": "display_data"
    }
   ],
   "source": [
    "log_tf_gs_conf = ConfusionMatrixDisplay.from_estimator(gs2, X_test, y_test, \n",
    "                                      display_labels = ['drum', 'piano'], cmap = 'Oranges', normalize = 'true')\n",
    "log_tf_gs_conf\n",
    "plt.title('Grid Search Confusion Matrix: Tfidfvectorizer and Logistic Regression');"
   ]
  },
  {
   "cell_type": "code",
   "execution_count": 469,
   "id": "74b2c943-0ba5-48e1-a832-52e0033b7fd0",
   "metadata": {},
   "outputs": [],
   "source": [
    "log_tf_gs_conf.figure_.savefig('./images/log_tf_gs_conf.jpg',dpi = 100)"
   ]
  },
  {
   "cell_type": "markdown",
   "id": "c4a0a9e5-7965-40fb-b622-1584052ee6db",
   "metadata": {},
   "source": [
    "TfidfVectorizer + LogisticRegression have better result than CountVectorizer + LogisticRegression. "
   ]
  },
  {
   "cell_type": "markdown",
   "id": "d5328fe4-b12c-4cc1-bd19-98eb3339f64e",
   "metadata": {},
   "source": [
    "### 2.3. K Nearest Neighbors"
   ]
  },
  {
   "cell_type": "markdown",
   "id": "bd6a3657-4c93-4f54-b449-e3f2d8d00c59",
   "metadata": {},
   "source": [
    "#### 2.3.1. CountVectorizer + KNN"
   ]
  },
  {
   "cell_type": "code",
   "execution_count": 417,
   "id": "8ea13a33-9b85-4f8f-ac1c-a5cdbf008e90",
   "metadata": {},
   "outputs": [],
   "source": [
    "pipe3 = make_pipeline(CountVectorizer(stop_words = stop_words, min_df = 2), KNeighborsClassifier(n_neighbors = 5))"
   ]
  },
  {
   "cell_type": "code",
   "execution_count": 418,
   "id": "a7818f83-40b1-4f07-a036-e0784cc5539d",
   "metadata": {},
   "outputs": [
    {
     "data": {
      "text/plain": [
       "Pipeline(steps=[('countvectorizer',\n",
       "                 CountVectorizer(min_df=2,\n",
       "                                 stop_words=['i', 'me', 'my', 'myself', 'we',\n",
       "                                             'our', 'ours', 'ourselves', 'you',\n",
       "                                             \"you're\", \"you've\", \"you'll\",\n",
       "                                             \"you'd\", 'your', 'yours',\n",
       "                                             'yourself', 'yourselves', 'he',\n",
       "                                             'him', 'his', 'himself', 'she',\n",
       "                                             \"she's\", 'her', 'hers', 'herself',\n",
       "                                             'it', \"it's\", 'its', 'itself', ...])),\n",
       "                ('kneighborsclassifier', KNeighborsClassifier())])"
      ]
     },
     "execution_count": 418,
     "metadata": {},
     "output_type": "execute_result"
    }
   ],
   "source": [
    "pipe3.fit(X_train, y_train)"
   ]
  },
  {
   "cell_type": "code",
   "execution_count": 419,
   "id": "0c909a2b-2617-433f-baaa-17a700a397f7",
   "metadata": {},
   "outputs": [
    {
     "data": {
      "text/plain": [
       "(0.8427495291902072, 0.7282110091743119)"
      ]
     },
     "execution_count": 419,
     "metadata": {},
     "output_type": "execute_result"
    }
   ],
   "source": [
    "pipe3.score(X_train, y_train), pipe3.score(X_test, y_test)"
   ]
  },
  {
   "cell_type": "code",
   "execution_count": 496,
   "id": "ec47ac73-51f2-4584-a646-64b7bd8cc7f1",
   "metadata": {
    "tags": []
   },
   "outputs": [
    {
     "data": {
      "text/plain": [
       "(0.7096045197740113, 0.7117714886225972)"
      ]
     },
     "execution_count": 496,
     "metadata": {},
     "output_type": "execute_result"
    }
   ],
   "source": [
    "knn_cv_train = cross_val_score(pipe3, X_train, y_train).mean()\n",
    "knn_cv_test = cross_val_score(pipe3, X_test, y_test).mean()\n",
    "knn_cv_train, knn_cv_test"
   ]
  },
  {
   "cell_type": "code",
   "execution_count": 470,
   "id": "9d12afaf-1ce5-444f-90b0-59b567e60f62",
   "metadata": {},
   "outputs": [
    {
     "data": {
      "image/png": "[encoded data removed]",
      "text/plain": [
       "<Figure size 432x288 with 2 Axes>"
      ]
     },
     "metadata": {
      "needs_background": "light"
     },
     "output_type": "display_data"
    }
   ],
   "source": [
    "knn_cv_conf = ConfusionMatrixDisplay.from_estimator(pipe3, X_test, y_test, \n",
    "                                      display_labels = ['drum', 'piano'], cmap = 'Greens', normalize = 'true')\n",
    "knn_cv_conf\n",
    "plt.title('Confusion Matrix: Countvectorizer and KNN');"
   ]
  },
  {
   "cell_type": "code",
   "execution_count": 471,
   "id": "e58826e9-0035-416e-83ec-06e4d2f221d7",
   "metadata": {},
   "outputs": [],
   "source": [
    "knn_cv_conf.figure_.savefig('./images/knn_cv_conf.jpg',dpi = 100)"
   ]
  },
  {
   "cell_type": "markdown",
   "id": "9b892eb7-b509-4f52-baa2-32b4047d651b",
   "metadata": {},
   "source": [
    "#### 2.3.2. TfidfVectorizer + KNN"
   ]
  },
  {
   "cell_type": "code",
   "execution_count": 210,
   "id": "65383ce7-40d4-4241-aec9-ca45a95d5c19",
   "metadata": {},
   "outputs": [],
   "source": [
    "pipe4 = make_pipeline(TfidfVectorizer(stop_words = stop_words, min_df = 2), KNeighborsClassifier(n_neighbors = 5))"
   ]
  },
  {
   "cell_type": "code",
   "execution_count": 211,
   "id": "44f8ff89-bfd1-4e16-9488-54e964e137e9",
   "metadata": {},
   "outputs": [
    {
     "data": {
      "text/plain": [
       "Pipeline(steps=[('tfidfvectorizer',\n",
       "                 TfidfVectorizer(min_df=2,\n",
       "                                 stop_words=['i', 'me', 'my', 'myself', 'we',\n",
       "                                             'our', 'ours', 'ourselves', 'you',\n",
       "                                             \"you're\", \"you've\", \"you'll\",\n",
       "                                             \"you'd\", 'your', 'yours',\n",
       "                                             'yourself', 'yourselves', 'he',\n",
       "                                             'him', 'his', 'himself', 'she',\n",
       "                                             \"she's\", 'her', 'hers', 'herself',\n",
       "                                             'it', \"it's\", 'its', 'itself', ...])),\n",
       "                ('kneighborsclassifier', KNeighborsClassifier())])"
      ]
     },
     "execution_count": 211,
     "metadata": {},
     "output_type": "execute_result"
    }
   ],
   "source": [
    "pipe4.fit(X_train, y_train)"
   ]
  },
  {
   "cell_type": "code",
   "execution_count": 212,
   "id": "c8f4312f-7790-480a-8d0d-c7c5d83ede0b",
   "metadata": {},
   "outputs": [
    {
     "data": {
      "text/plain": [
       "(0.784180790960452, 0.6502293577981652)"
      ]
     },
     "execution_count": 212,
     "metadata": {},
     "output_type": "execute_result"
    }
   ],
   "source": [
    "pipe4.score(X_train, y_train), pipe4.score(X_test, y_test)"
   ]
  },
  {
   "cell_type": "code",
   "execution_count": 497,
   "id": "a771c64e-f204-47a3-977e-05231319c2cd",
   "metadata": {},
   "outputs": [
    {
     "data": {
      "text/plain": [
       "(0.6404896421845574, 0.6425897274969714)"
      ]
     },
     "execution_count": 497,
     "metadata": {},
     "output_type": "execute_result"
    }
   ],
   "source": [
    "knn_tf_train = cross_val_score(pipe4, X_train, y_train).mean()\n",
    "knn_tf_test = cross_val_score(pipe4, X_test, y_test).mean()\n",
    "knn_tf_train, knn_tf_test"
   ]
  },
  {
   "cell_type": "code",
   "execution_count": 472,
   "id": "2cf7095f-b18a-4ef4-8a7e-45c5af648753",
   "metadata": {},
   "outputs": [
    {
     "data": {
      "image/png": "[encoded data removed]",
      "text/plain": [
       "<Figure size 432x288 with 2 Axes>"
      ]
     },
     "metadata": {
      "needs_background": "light"
     },
     "output_type": "display_data"
    }
   ],
   "source": [
    "knn_tf_conf = ConfusionMatrixDisplay.from_estimator(pipe4, X_test, y_test, \n",
    "                                      display_labels = ['drum', 'piano'], cmap = 'Greens', normalize = 'true')\n",
    "knn_tf_conf\n",
    "plt.title('Confusion Matrix: Tfidfvectorizer and KNN');"
   ]
  },
  {
   "cell_type": "code",
   "execution_count": 473,
   "id": "e3615096-4338-4c11-8614-37e5109a52de",
   "metadata": {},
   "outputs": [],
   "source": [
    "knn_tf_conf.figure_.savefig('./images/knn_tf_conf.jpg',dpi = 100)"
   ]
  },
  {
   "cell_type": "markdown",
   "id": "d3f3dc6d-77af-437f-8210-c7a582037b4e",
   "metadata": {
    "tags": []
   },
   "source": [
    "#### 2.3.3. Grid Search: CountVectorizer + KNN"
   ]
  },
  {
   "cell_type": "code",
   "execution_count": 242,
   "id": "a3a8a777-a588-46b6-a47f-0e07a156e515",
   "metadata": {},
   "outputs": [
    {
     "data": {
      "text/plain": [
       "dict_keys(['memory', 'steps', 'verbose', 'countvectorizer', 'kneighborsclassifier', 'countvectorizer__analyzer', 'countvectorizer__binary', 'countvectorizer__decode_error', 'countvectorizer__dtype', 'countvectorizer__encoding', 'countvectorizer__input', 'countvectorizer__lowercase', 'countvectorizer__max_df', 'countvectorizer__max_features', 'countvectorizer__min_df', 'countvectorizer__ngram_range', 'countvectorizer__preprocessor', 'countvectorizer__stop_words', 'countvectorizer__strip_accents', 'countvectorizer__token_pattern', 'countvectorizer__tokenizer', 'countvectorizer__vocabulary', 'kneighborsclassifier__algorithm', 'kneighborsclassifier__leaf_size', 'kneighborsclassifier__metric', 'kneighborsclassifier__metric_params', 'kneighborsclassifier__n_jobs', 'kneighborsclassifier__n_neighbors', 'kneighborsclassifier__p', 'kneighborsclassifier__weights'])"
      ]
     },
     "execution_count": 242,
     "metadata": {},
     "output_type": "execute_result"
    }
   ],
   "source": [
    "pipe3.get_params().keys()"
   ]
  },
  {
   "cell_type": "code",
   "execution_count": 243,
   "id": "f0285c08-99c3-47b7-9ee8-e620189471b4",
   "metadata": {},
   "outputs": [],
   "source": [
    "param_grid3 = {\n",
    "    'countvectorizer__ngram_range': [(1, 1), (1, 2), (1, 3), (2, 2), (2, 3), (3, 3)], \n",
    "    'countvectorizer__min_df': [2, 3, 4, 5], \n",
    "    'kneighborsclassifier__n_neighbors': [3, 5, 7, 11, 15], \n",
    "    'kneighborsclassifier__weights': ['uniform', 'distance'], \n",
    "    'kneighborsclassifier__metric': ['euclidean', 'manhattan']\n",
    "             }"
   ]
  },
  {
   "cell_type": "code",
   "execution_count": 244,
   "id": "ff2c08fc-e4fd-480d-bd90-6a636a3aebbb",
   "metadata": {},
   "outputs": [],
   "source": [
    "gs3 = GridSearchCV(pipe3, param_grid = param_grid3, n_jobs = -1)"
   ]
  },
  {
   "cell_type": "code",
   "execution_count": 245,
   "id": "ec514838-addb-4214-b947-b78952bef731",
   "metadata": {},
   "outputs": [
    {
     "data": {
      "text/plain": [
       "GridSearchCV(estimator=Pipeline(steps=[('countvectorizer',\n",
       "                                        CountVectorizer(min_df=2,\n",
       "                                                        stop_words=['i', 'me',\n",
       "                                                                    'my',\n",
       "                                                                    'myself',\n",
       "                                                                    'we', 'our',\n",
       "                                                                    'ours',\n",
       "                                                                    'ourselves',\n",
       "                                                                    'you',\n",
       "                                                                    \"you're\",\n",
       "                                                                    \"you've\",\n",
       "                                                                    \"you'll\",\n",
       "                                                                    \"you'd\",\n",
       "                                                                    'your',\n",
       "                                                                    'yours',\n",
       "                                                                    'yourself',\n",
       "                                                                    'yourselves',\n",
       "                                                                    'he', 'him',\n",
       "                                                                    'his',\n",
       "                                                                    'himself',\n",
       "                                                                    'she',\n",
       "                                                                    \"she's\",\n",
       "                                                                    'her',\n",
       "                                                                    'hers',\n",
       "                                                                    'herself',\n",
       "                                                                    'it',\n",
       "                                                                    \"it's\",\n",
       "                                                                    'its',\n",
       "                                                                    'itself', ...])),\n",
       "                                       ('kneighborsclassifier',\n",
       "                                        KNeighborsClassifier())]),\n",
       "             n_jobs=-1,\n",
       "             param_grid={'countvectorizer__min_df': [2, 3, 4, 5],\n",
       "                         'countvectorizer__ngram_range': [(1, 1), (1, 2),\n",
       "                                                          (1, 3), (2, 2),\n",
       "                                                          (2, 3), (3, 3)],\n",
       "                         'kneighborsclassifier__metric': ['euclidean',\n",
       "                                                          'manhattan'],\n",
       "                         'kneighborsclassifier__n_neighbors': [3, 5, 7, 11, 15],\n",
       "                         'kneighborsclassifier__weights': ['uniform',\n",
       "                                                           'distance']})"
      ]
     },
     "execution_count": 245,
     "metadata": {},
     "output_type": "execute_result"
    }
   ],
   "source": [
    "gs3.fit(X_train, y_train)"
   ]
  },
  {
   "cell_type": "code",
   "execution_count": 246,
   "id": "7e6b6c7e-43c1-4946-8d01-c9b06a8dfeb0",
   "metadata": {},
   "outputs": [
    {
     "data": {
      "text/plain": [
       "{'countvectorizer__min_df': 5,\n",
       " 'countvectorizer__ngram_range': (1, 2),\n",
       " 'kneighborsclassifier__metric': 'euclidean',\n",
       " 'kneighborsclassifier__n_neighbors': 11,\n",
       " 'kneighborsclassifier__weights': 'distance'}"
      ]
     },
     "execution_count": 246,
     "metadata": {},
     "output_type": "execute_result"
    }
   ],
   "source": [
    "gs3.best_params_"
   ]
  },
  {
   "cell_type": "code",
   "execution_count": 498,
   "id": "35c8a028-ab5a-4acb-959c-5ec143f5731c",
   "metadata": {},
   "outputs": [
    {
     "data": {
      "text/plain": [
       "(0.7657250470809792, 0.7603265073781618)"
      ]
     },
     "execution_count": 498,
     "metadata": {},
     "output_type": "execute_result"
    }
   ],
   "source": [
    "knn_cv_gs_train = gs3.best_score_\n",
    "knn_cv_gs_test = cross_val_score(gs3.best_estimator_, X_test, y_test).mean()\n",
    "knn_cv_gs_train, knn_cv_gs_test"
   ]
  },
  {
   "cell_type": "code",
   "execution_count": 248,
   "id": "82679599-2d51-4a9c-a793-ae2c8a504142",
   "metadata": {
    "tags": []
   },
   "outputs": [
    {
     "data": {
      "text/plain": [
       "(0.9747645951035782, 0.7782874617737003)"
      ]
     },
     "execution_count": 248,
     "metadata": {},
     "output_type": "execute_result"
    }
   ],
   "source": [
    "gs3.score(X_train, y_train), gs3.score(X_test, y_test)"
   ]
  },
  {
   "cell_type": "code",
   "execution_count": 474,
   "id": "8066fc1e-ee4c-4615-9b82-aee0b13c6efb",
   "metadata": {
    "tags": []
   },
   "outputs": [
    {
     "data": {
      "image/png": "[encoded data removed]",
      "text/plain": [
       "<Figure size 432x288 with 2 Axes>"
      ]
     },
     "metadata": {
      "needs_background": "light"
     },
     "output_type": "display_data"
    }
   ],
   "source": [
    "knn_cv_gs_conf = ConfusionMatrixDisplay.from_estimator(gs3, X_test, y_test, \n",
    "                                      display_labels = ['drum', 'piano'], cmap = 'Greens', normalize = 'true')\n",
    "knn_cv_gs_conf\n",
    "plt.title('Grid Search Confusion Matrix: Countvectorizer and KNN');"
   ]
  },
  {
   "cell_type": "code",
   "execution_count": 475,
   "id": "80b18486-35ec-46da-a820-a41a2377d663",
   "metadata": {},
   "outputs": [],
   "source": [
    "knn_cv_gs_conf.figure_.savefig('./images/knn_cv_gs_conf.jpg',dpi = 100)"
   ]
  },
  {
   "cell_type": "markdown",
   "id": "9a40323c-287e-49be-9009-784d1fc36216",
   "metadata": {},
   "source": [
    "#### 2.3.4. Grid Search: TfidfVectorizer + KNN"
   ]
  },
  {
   "cell_type": "code",
   "execution_count": 249,
   "id": "7d1f193a-d3aa-4ed2-b9ca-07b6fe05b6bc",
   "metadata": {},
   "outputs": [
    {
     "data": {
      "text/plain": [
       "dict_keys(['memory', 'steps', 'verbose', 'tfidfvectorizer', 'kneighborsclassifier', 'tfidfvectorizer__analyzer', 'tfidfvectorizer__binary', 'tfidfvectorizer__decode_error', 'tfidfvectorizer__dtype', 'tfidfvectorizer__encoding', 'tfidfvectorizer__input', 'tfidfvectorizer__lowercase', 'tfidfvectorizer__max_df', 'tfidfvectorizer__max_features', 'tfidfvectorizer__min_df', 'tfidfvectorizer__ngram_range', 'tfidfvectorizer__norm', 'tfidfvectorizer__preprocessor', 'tfidfvectorizer__smooth_idf', 'tfidfvectorizer__stop_words', 'tfidfvectorizer__strip_accents', 'tfidfvectorizer__sublinear_tf', 'tfidfvectorizer__token_pattern', 'tfidfvectorizer__tokenizer', 'tfidfvectorizer__use_idf', 'tfidfvectorizer__vocabulary', 'kneighborsclassifier__algorithm', 'kneighborsclassifier__leaf_size', 'kneighborsclassifier__metric', 'kneighborsclassifier__metric_params', 'kneighborsclassifier__n_jobs', 'kneighborsclassifier__n_neighbors', 'kneighborsclassifier__p', 'kneighborsclassifier__weights'])"
      ]
     },
     "execution_count": 249,
     "metadata": {},
     "output_type": "execute_result"
    }
   ],
   "source": [
    "pipe4.get_params().keys()"
   ]
  },
  {
   "cell_type": "code",
   "execution_count": 250,
   "id": "f97a775d-99c2-4029-8cb4-eb925d24674c",
   "metadata": {},
   "outputs": [],
   "source": [
    "param_grid4 = {\n",
    "    'tfidfvectorizer__ngram_range': [(1, 1), (1, 2), (1, 3), (2, 2), (2, 3), (3, 3)], \n",
    "    'tfidfvectorizer__min_df': [2, 3, 4, 5], \n",
    "    'kneighborsclassifier__n_neighbors': [3, 5, 7, 11, 15], \n",
    "    'kneighborsclassifier__weights': ['uniform', 'distance'], \n",
    "    'kneighborsclassifier__metric': ['euclidean', 'manhattan']\n",
    "             }"
   ]
  },
  {
   "cell_type": "code",
   "execution_count": 251,
   "id": "0f6c0932-4613-4132-95df-7eb23dd5a65e",
   "metadata": {},
   "outputs": [],
   "source": [
    "gs4 = GridSearchCV(pipe4, param_grid = param_grid4, n_jobs = -1)"
   ]
  },
  {
   "cell_type": "code",
   "execution_count": 252,
   "id": "5083f22f-171e-4451-9d34-5df023d48941",
   "metadata": {},
   "outputs": [
    {
     "data": {
      "text/plain": [
       "GridSearchCV(estimator=Pipeline(steps=[('tfidfvectorizer',\n",
       "                                        TfidfVectorizer(min_df=2,\n",
       "                                                        stop_words=['i', 'me',\n",
       "                                                                    'my',\n",
       "                                                                    'myself',\n",
       "                                                                    'we', 'our',\n",
       "                                                                    'ours',\n",
       "                                                                    'ourselves',\n",
       "                                                                    'you',\n",
       "                                                                    \"you're\",\n",
       "                                                                    \"you've\",\n",
       "                                                                    \"you'll\",\n",
       "                                                                    \"you'd\",\n",
       "                                                                    'your',\n",
       "                                                                    'yours',\n",
       "                                                                    'yourself',\n",
       "                                                                    'yourselves',\n",
       "                                                                    'he', 'him',\n",
       "                                                                    'his',\n",
       "                                                                    'himself',\n",
       "                                                                    'she',\n",
       "                                                                    \"she's\",\n",
       "                                                                    'her',\n",
       "                                                                    'hers',\n",
       "                                                                    'herself',\n",
       "                                                                    'it',\n",
       "                                                                    \"it's\",\n",
       "                                                                    'its',\n",
       "                                                                    'itself', ...])),\n",
       "                                       ('kneighborsclassifier',\n",
       "                                        KNeighborsClassifier())]),\n",
       "             n_jobs=-1,\n",
       "             param_grid={'kneighborsclassifier__metric': ['euclidean',\n",
       "                                                          'manhattan'],\n",
       "                         'kneighborsclassifier__n_neighbors': [3, 5, 7, 11, 15],\n",
       "                         'kneighborsclassifier__weights': ['uniform',\n",
       "                                                           'distance'],\n",
       "                         'tfidfvectorizer__min_df': [2, 3, 4, 5],\n",
       "                         'tfidfvectorizer__ngram_range': [(1, 1), (1, 2),\n",
       "                                                          (1, 3), (2, 2),\n",
       "                                                          (2, 3), (3, 3)]})"
      ]
     },
     "execution_count": 252,
     "metadata": {},
     "output_type": "execute_result"
    }
   ],
   "source": [
    "gs4.fit(X_train, y_train)"
   ]
  },
  {
   "cell_type": "code",
   "execution_count": 253,
   "id": "ec5cda10-1655-4999-b0a7-25097ce3dc78",
   "metadata": {},
   "outputs": [
    {
     "data": {
      "text/plain": [
       "{'kneighborsclassifier__metric': 'euclidean',\n",
       " 'kneighborsclassifier__n_neighbors': 7,\n",
       " 'kneighborsclassifier__weights': 'distance',\n",
       " 'tfidfvectorizer__min_df': 5,\n",
       " 'tfidfvectorizer__ngram_range': (1, 3)}"
      ]
     },
     "execution_count": 253,
     "metadata": {},
     "output_type": "execute_result"
    }
   ],
   "source": [
    "gs4.best_params_"
   ]
  },
  {
   "cell_type": "code",
   "execution_count": 499,
   "id": "ff50f983-e19f-4420-9ac4-ca4b088d2b7d",
   "metadata": {},
   "outputs": [
    {
     "data": {
      "text/plain": [
       "(0.7148775894538607, 0.7224738370820136)"
      ]
     },
     "execution_count": 499,
     "metadata": {},
     "output_type": "execute_result"
    }
   ],
   "source": [
    "knn_tf_gs_train = gs4.best_score_\n",
    "knn_tf_gs_test = cross_val_score(gs4.best_estimator_, X_test, y_test).mean()\n",
    "knn_tf_gs_train, knn_tf_gs_test"
   ]
  },
  {
   "cell_type": "code",
   "execution_count": 255,
   "id": "63368596-ddb9-43af-a6c3-734cb4ed70c4",
   "metadata": {},
   "outputs": [
    {
     "data": {
      "text/plain": [
       "(0.9745762711864406, 0.7301223241590215)"
      ]
     },
     "execution_count": 255,
     "metadata": {},
     "output_type": "execute_result"
    }
   ],
   "source": [
    "gs4.score(X_train, y_train), gs4.score(X_test, y_test)"
   ]
  },
  {
   "cell_type": "code",
   "execution_count": 476,
   "id": "392ee8a2-0051-4127-a932-ecbb6fd05a15",
   "metadata": {
    "tags": []
   },
   "outputs": [
    {
     "data": {
      "image/png": "[encoded data removed]",
      "text/plain": [
       "<Figure size 432x288 with 2 Axes>"
      ]
     },
     "metadata": {
      "needs_background": "light"
     },
     "output_type": "display_data"
    }
   ],
   "source": [
    "knn_tf_gs_conf = ConfusionMatrixDisplay.from_estimator(gs4, X_test, y_test, \n",
    "                                      display_labels = ['drum', 'piano'], cmap = 'Greens', normalize = 'true')\n",
    "knn_tf_gs_conf\n",
    "plt.title('Grid Search Confusion Matrix: Tfidfvectorizer and KNN');"
   ]
  },
  {
   "cell_type": "code",
   "execution_count": 477,
   "id": "1025a3c6-30ac-4d0b-a1a6-fdb5bc4b2300",
   "metadata": {
    "tags": []
   },
   "outputs": [],
   "source": [
    "knn_tf_gs_conf.figure_.savefig('./images/knn_tf_gs_conf.jpg',dpi = 100)"
   ]
  },
  {
   "cell_type": "markdown",
   "id": "9f509002-f9e9-4a87-bdc5-9b1cedfe2400",
   "metadata": {},
   "source": [
    "KNN does not perform well as Logistic Regression in the model. \n",
    "CountVectorizer + LogisticRegression have better result than TfidfVectorizer + LogisticRegression. "
   ]
  },
  {
   "cell_type": "markdown",
   "id": "640e9b30-d1e1-4fb9-94cb-00f75b8e8e41",
   "metadata": {},
   "source": [
    "### 2.4. Random Forest Classifier"
   ]
  },
  {
   "cell_type": "markdown",
   "id": "4dfd3ac2-6eef-44ef-accb-16d34bea62be",
   "metadata": {},
   "source": [
    "#### 2.4.1. CountVectorizer + Random Forest Classifier"
   ]
  },
  {
   "cell_type": "code",
   "execution_count": 257,
   "id": "4d1c34df-0df2-45c3-9877-c63bbc444fc6",
   "metadata": {},
   "outputs": [],
   "source": [
    "pipe5 = make_pipeline(CountVectorizer(stop_words = stop_words, min_df = 2), RandomForestClassifier())"
   ]
  },
  {
   "cell_type": "code",
   "execution_count": 258,
   "id": "4f100022-cca1-4357-b376-6b16355ebe4c",
   "metadata": {},
   "outputs": [
    {
     "data": {
      "text/plain": [
       "Pipeline(steps=[('countvectorizer',\n",
       "                 CountVectorizer(min_df=2,\n",
       "                                 stop_words=['i', 'me', 'my', 'myself', 'we',\n",
       "                                             'our', 'ours', 'ourselves', 'you',\n",
       "                                             \"you're\", \"you've\", \"you'll\",\n",
       "                                             \"you'd\", 'your', 'yours',\n",
       "                                             'yourself', 'yourselves', 'he',\n",
       "                                             'him', 'his', 'himself', 'she',\n",
       "                                             \"she's\", 'her', 'hers', 'herself',\n",
       "                                             'it', \"it's\", 'its', 'itself', ...])),\n",
       "                ('randomforestclassifier', RandomForestClassifier())])"
      ]
     },
     "execution_count": 258,
     "metadata": {},
     "output_type": "execute_result"
    }
   ],
   "source": [
    "pipe5.fit(X_train, y_train)"
   ]
  },
  {
   "cell_type": "code",
   "execution_count": 259,
   "id": "6cf968ee-3285-45ce-9aee-78334c6d723c",
   "metadata": {},
   "outputs": [
    {
     "data": {
      "text/plain": [
       "(0.991713747645951, 0.8490061162079511)"
      ]
     },
     "execution_count": 259,
     "metadata": {},
     "output_type": "execute_result"
    }
   ],
   "source": [
    "pipe5.score(X_train, y_train), pipe5.score(X_test, y_test)"
   ]
  },
  {
   "cell_type": "code",
   "execution_count": 500,
   "id": "243161bc-309e-4a32-bc39-bb6facb78d08",
   "metadata": {
    "tags": []
   },
   "outputs": [
    {
     "data": {
      "text/plain": [
       "(0.8369114877589453, 0.8379263789353846)"
      ]
     },
     "execution_count": 500,
     "metadata": {},
     "output_type": "execute_result"
    }
   ],
   "source": [
    "rfc_cv_train = cross_val_score(pipe5, X_train, y_train).mean()\n",
    "rfc_cv_test = cross_val_score(pipe5, X_test, y_test).mean()\n",
    "rfc_cv_train, rfc_cv_test"
   ]
  },
  {
   "cell_type": "code",
   "execution_count": 478,
   "id": "071d20ab-c1ea-4deb-a157-89af2a85ecda",
   "metadata": {},
   "outputs": [
    {
     "data": {
      "image/png": "[encoded data removed]",
      "text/plain": [
       "<Figure size 432x288 with 2 Axes>"
      ]
     },
     "metadata": {
      "needs_background": "light"
     },
     "output_type": "display_data"
    }
   ],
   "source": [
    "rfc_cv_conf = ConfusionMatrixDisplay.from_estimator(pipe5, X_test, y_test, \n",
    "                                      display_labels = ['drum', 'piano'], cmap = 'Purples', normalize = 'true')\n",
    "rfc_cv_conf\n",
    "plt.title('Confusion Matrix: Countvectorizer and Random Forest Classifier');"
   ]
  },
  {
   "cell_type": "code",
   "execution_count": 479,
   "id": "94250333-34a7-4057-8e9c-2dbc35fbd7bd",
   "metadata": {},
   "outputs": [],
   "source": [
    "rfc_cv_conf.figure_.savefig('./images/rfc_cv_conf.jpg',dpi = 100)"
   ]
  },
  {
   "cell_type": "markdown",
   "id": "b570841f-483c-4e09-b628-4ae7d0725939",
   "metadata": {},
   "source": [
    "#### 2.4.2. TfidfVectorizer + Random Forest Classifier"
   ]
  },
  {
   "cell_type": "code",
   "execution_count": 262,
   "id": "a1b4f4af-dfc7-469d-884f-7978885f7460",
   "metadata": {},
   "outputs": [],
   "source": [
    "pipe6 = make_pipeline(TfidfVectorizer(stop_words = stop_words, min_df = 2), RandomForestClassifier())"
   ]
  },
  {
   "cell_type": "code",
   "execution_count": 263,
   "id": "ff9299a9-b2fc-4a24-b580-02924395de90",
   "metadata": {},
   "outputs": [
    {
     "data": {
      "text/plain": [
       "Pipeline(steps=[('tfidfvectorizer',\n",
       "                 TfidfVectorizer(min_df=2,\n",
       "                                 stop_words=['i', 'me', 'my', 'myself', 'we',\n",
       "                                             'our', 'ours', 'ourselves', 'you',\n",
       "                                             \"you're\", \"you've\", \"you'll\",\n",
       "                                             \"you'd\", 'your', 'yours',\n",
       "                                             'yourself', 'yourselves', 'he',\n",
       "                                             'him', 'his', 'himself', 'she',\n",
       "                                             \"she's\", 'her', 'hers', 'herself',\n",
       "                                             'it', \"it's\", 'its', 'itself', ...])),\n",
       "                ('randomforestclassifier', RandomForestClassifier())])"
      ]
     },
     "execution_count": 263,
     "metadata": {},
     "output_type": "execute_result"
    }
   ],
   "source": [
    "pipe6.fit(X_train, y_train)"
   ]
  },
  {
   "cell_type": "code",
   "execution_count": 264,
   "id": "c48f0669-35d2-4a47-96e6-e30ef8b288b9",
   "metadata": {},
   "outputs": [
    {
     "data": {
      "text/plain": [
       "(0.991713747645951, 0.8562691131498471)"
      ]
     },
     "execution_count": 264,
     "metadata": {},
     "output_type": "execute_result"
    }
   ],
   "source": [
    "pipe6.score(X_train, y_train), pipe6.score(X_test, y_test)"
   ]
  },
  {
   "cell_type": "code",
   "execution_count": 501,
   "id": "4315e508-f892-4b00-8ac4-ee23df1708b0",
   "metadata": {},
   "outputs": [
    {
     "data": {
      "text/plain": [
       "(0.8459510357815443, 0.8451855852174038)"
      ]
     },
     "execution_count": 501,
     "metadata": {},
     "output_type": "execute_result"
    }
   ],
   "source": [
    "rfc_tf_train = cross_val_score(pipe6, X_train, y_train).mean()\n",
    "rfc_tf_test = cross_val_score(pipe6, X_test, y_test).mean()\n",
    "rfc_tf_train, rfc_tf_test"
   ]
  },
  {
   "cell_type": "code",
   "execution_count": 480,
   "id": "e4470ffa-c946-42e0-9e43-3f40f5654762",
   "metadata": {},
   "outputs": [
    {
     "data": {
      "image/png": "[encoded data removed]",
      "text/plain": [
       "<Figure size 432x288 with 2 Axes>"
      ]
     },
     "metadata": {
      "needs_background": "light"
     },
     "output_type": "display_data"
    }
   ],
   "source": [
    "rfc_tf_conf = ConfusionMatrixDisplay.from_estimator(pipe6, X_test, y_test, \n",
    "                                      display_labels = ['drum', 'piano'], cmap = 'Purples', normalize = 'true')\n",
    "rfc_tf_conf\n",
    "plt.title('Confusion Matrix: Tfidfvectorizer and Random Forest Classifier');"
   ]
  },
  {
   "cell_type": "code",
   "execution_count": 481,
   "id": "869f5fd0-87b5-4885-a7a5-4996a2e23630",
   "metadata": {
    "tags": []
   },
   "outputs": [],
   "source": [
    "rfc_tf_conf.figure_.savefig('./images/rfc_tf_conf.jpg',dpi = 100)"
   ]
  },
  {
   "cell_type": "markdown",
   "id": "4ffd961a-9c66-49ae-8418-8f6ca674de63",
   "metadata": {},
   "source": [
    "#### 2.4.3. Grid Search: CountVectorizer + Random Forest Classifier"
   ]
  },
  {
   "cell_type": "code",
   "execution_count": 267,
   "id": "78825335-fc51-40ce-aecf-7ef5650403c0",
   "metadata": {
    "tags": []
   },
   "outputs": [
    {
     "data": {
      "text/plain": [
       "dict_keys(['memory', 'steps', 'verbose', 'countvectorizer', 'randomforestclassifier', 'countvectorizer__analyzer', 'countvectorizer__binary', 'countvectorizer__decode_error', 'countvectorizer__dtype', 'countvectorizer__encoding', 'countvectorizer__input', 'countvectorizer__lowercase', 'countvectorizer__max_df', 'countvectorizer__max_features', 'countvectorizer__min_df', 'countvectorizer__ngram_range', 'countvectorizer__preprocessor', 'countvectorizer__stop_words', 'countvectorizer__strip_accents', 'countvectorizer__token_pattern', 'countvectorizer__tokenizer', 'countvectorizer__vocabulary', 'randomforestclassifier__bootstrap', 'randomforestclassifier__ccp_alpha', 'randomforestclassifier__class_weight', 'randomforestclassifier__criterion', 'randomforestclassifier__max_depth', 'randomforestclassifier__max_features', 'randomforestclassifier__max_leaf_nodes', 'randomforestclassifier__max_samples', 'randomforestclassifier__min_impurity_decrease', 'randomforestclassifier__min_samples_leaf', 'randomforestclassifier__min_samples_split', 'randomforestclassifier__min_weight_fraction_leaf', 'randomforestclassifier__n_estimators', 'randomforestclassifier__n_jobs', 'randomforestclassifier__oob_score', 'randomforestclassifier__random_state', 'randomforestclassifier__verbose', 'randomforestclassifier__warm_start'])"
      ]
     },
     "execution_count": 267,
     "metadata": {},
     "output_type": "execute_result"
    }
   ],
   "source": [
    "pipe5.get_params().keys()"
   ]
  },
  {
   "cell_type": "code",
   "execution_count": 269,
   "id": "1a7dbd89-fa28-4c86-88fc-c91ece90ba96",
   "metadata": {},
   "outputs": [],
   "source": [
    "param_grid5 = {\n",
    "    'countvectorizer__ngram_range': [(1, 1), (1, 2), (1, 3), (2, 2)], \n",
    "    'countvectorizer__min_df': [2, 3, 4], \n",
    "    'randomforestclassifier__n_estimators': [100, 150, 200], \n",
    "    'randomforestclassifier__max_depth': [5, 7, 10, 12, 15], \n",
    "    'randomforestclassifier__min_samples_split': [2, 3, 5, 7]\n",
    "             }"
   ]
  },
  {
   "cell_type": "code",
   "execution_count": 270,
   "id": "7116f99c-d066-47a5-9977-27118ac22c37",
   "metadata": {},
   "outputs": [],
   "source": [
    "gs5 = GridSearchCV(pipe5, param_grid = param_grid5, n_jobs = -1)"
   ]
  },
  {
   "cell_type": "code",
   "execution_count": 271,
   "id": "c9501973-225b-4d61-9a0c-8e45783a8f75",
   "metadata": {},
   "outputs": [
    {
     "data": {
      "text/plain": [
       "GridSearchCV(estimator=Pipeline(steps=[('countvectorizer',\n",
       "                                        CountVectorizer(min_df=2,\n",
       "                                                        stop_words=['i', 'me',\n",
       "                                                                    'my',\n",
       "                                                                    'myself',\n",
       "                                                                    'we', 'our',\n",
       "                                                                    'ours',\n",
       "                                                                    'ourselves',\n",
       "                                                                    'you',\n",
       "                                                                    \"you're\",\n",
       "                                                                    \"you've\",\n",
       "                                                                    \"you'll\",\n",
       "                                                                    \"you'd\",\n",
       "                                                                    'your',\n",
       "                                                                    'yours',\n",
       "                                                                    'yourself',\n",
       "                                                                    'yourselves',\n",
       "                                                                    'he', 'him',\n",
       "                                                                    'his',\n",
       "                                                                    'himself',\n",
       "                                                                    'she',\n",
       "                                                                    \"she's\",\n",
       "                                                                    'her',\n",
       "                                                                    'hers',\n",
       "                                                                    'herself',\n",
       "                                                                    'it',\n",
       "                                                                    \"it's\",\n",
       "                                                                    'its',\n",
       "                                                                    'itself', ...])),\n",
       "                                       ('randomforestclassifier',\n",
       "                                        RandomForestClassifier())]),\n",
       "             n_jobs=-1,\n",
       "             param_grid={'countvectorizer__min_df': [2, 3, 4],\n",
       "                         'countvectorizer__ngram_range': [(1, 1), (1, 2),\n",
       "                                                          (1, 3), (2, 2)],\n",
       "                         'randomforestclassifier__max_depth': [5, 7, 10, 12,\n",
       "                                                               15],\n",
       "                         'randomforestclassifier__min_samples_split': [2, 3, 5,\n",
       "                                                                       7],\n",
       "                         'randomforestclassifier__n_estimators': [100, 150,\n",
       "                                                                  200]})"
      ]
     },
     "execution_count": 271,
     "metadata": {},
     "output_type": "execute_result"
    }
   ],
   "source": [
    "gs5.fit(X_train, y_train)"
   ]
  },
  {
   "cell_type": "code",
   "execution_count": 272,
   "id": "b0c084ea-e0dc-46ba-ab3c-d57fa5e7c24d",
   "metadata": {},
   "outputs": [
    {
     "data": {
      "text/plain": [
       "{'countvectorizer__min_df': 2,\n",
       " 'countvectorizer__ngram_range': (1, 1),\n",
       " 'randomforestclassifier__max_depth': 15,\n",
       " 'randomforestclassifier__min_samples_split': 5,\n",
       " 'randomforestclassifier__n_estimators': 100}"
      ]
     },
     "execution_count": 272,
     "metadata": {},
     "output_type": "execute_result"
    }
   ],
   "source": [
    "gs5.best_params_"
   ]
  },
  {
   "cell_type": "code",
   "execution_count": 502,
   "id": "dde6a5fb-73f1-46d9-8c90-eb54d1552289",
   "metadata": {},
   "outputs": [
    {
     "data": {
      "text/plain": [
       "(0.8028248587570621, 0.803134441638813)"
      ]
     },
     "execution_count": 502,
     "metadata": {},
     "output_type": "execute_result"
    }
   ],
   "source": [
    "rfc_cv_gs_train = gs5.best_score_\n",
    "rfc_cv_gs_test = cross_val_score(gs5.best_estimator_, X_test, y_test).mean()\n",
    "rfc_cv_gs_train, rfc_cv_gs_test"
   ]
  },
  {
   "cell_type": "code",
   "execution_count": 274,
   "id": "e0aea12d-de86-4522-bc17-cc0541b5977a",
   "metadata": {
    "tags": []
   },
   "outputs": [
    {
     "data": {
      "text/plain": [
       "(0.8229755178907722, 0.8165137614678899)"
      ]
     },
     "execution_count": 274,
     "metadata": {},
     "output_type": "execute_result"
    }
   ],
   "source": [
    "gs5.score(X_train, y_train), gs5.score(X_test, y_test)"
   ]
  },
  {
   "cell_type": "code",
   "execution_count": 482,
   "id": "5ca548db-6d5f-4956-952e-54b6c72fb31f",
   "metadata": {},
   "outputs": [
    {
     "data": {
      "image/png": "[encoded data removed]",
      "text/plain": [
       "<Figure size 432x288 with 2 Axes>"
      ]
     },
     "metadata": {
      "needs_background": "light"
     },
     "output_type": "display_data"
    }
   ],
   "source": [
    "rfc_cv_gs_conf = ConfusionMatrixDisplay.from_estimator(gs5, X_test, y_test, \n",
    "                                      display_labels = ['drum', 'piano'], cmap = 'Purples', normalize = 'true')\n",
    "rfc_cv_gs_conf\n",
    "plt.title('Grid Search Confusion Matrix: Countvectorizer and Random Forest Classifier');"
   ]
  },
  {
   "cell_type": "code",
   "execution_count": 483,
   "id": "a1cefc7e-9933-451e-89d2-6ae1ff9a631b",
   "metadata": {},
   "outputs": [],
   "source": [
    "rfc_cv_gs_conf.figure_.savefig('./images/rfc_cv_gs_conf.jpg',dpi = 100)"
   ]
  },
  {
   "cell_type": "markdown",
   "id": "27d63974-ee40-4ee9-9c1a-9a600f40b717",
   "metadata": {},
   "source": [
    "#### 2.4.4. Grid Search: TfidfVectorizer + Random Forest Classifier"
   ]
  },
  {
   "cell_type": "code",
   "execution_count": 280,
   "id": "8be33adf-a97a-4be1-bdb7-f9dbeb5bb656",
   "metadata": {},
   "outputs": [
    {
     "data": {
      "text/plain": [
       "dict_keys(['memory', 'steps', 'verbose', 'tfidfvectorizer', 'randomforestclassifier', 'tfidfvectorizer__analyzer', 'tfidfvectorizer__binary', 'tfidfvectorizer__decode_error', 'tfidfvectorizer__dtype', 'tfidfvectorizer__encoding', 'tfidfvectorizer__input', 'tfidfvectorizer__lowercase', 'tfidfvectorizer__max_df', 'tfidfvectorizer__max_features', 'tfidfvectorizer__min_df', 'tfidfvectorizer__ngram_range', 'tfidfvectorizer__norm', 'tfidfvectorizer__preprocessor', 'tfidfvectorizer__smooth_idf', 'tfidfvectorizer__stop_words', 'tfidfvectorizer__strip_accents', 'tfidfvectorizer__sublinear_tf', 'tfidfvectorizer__token_pattern', 'tfidfvectorizer__tokenizer', 'tfidfvectorizer__use_idf', 'tfidfvectorizer__vocabulary', 'randomforestclassifier__bootstrap', 'randomforestclassifier__ccp_alpha', 'randomforestclassifier__class_weight', 'randomforestclassifier__criterion', 'randomforestclassifier__max_depth', 'randomforestclassifier__max_features', 'randomforestclassifier__max_leaf_nodes', 'randomforestclassifier__max_samples', 'randomforestclassifier__min_impurity_decrease', 'randomforestclassifier__min_samples_leaf', 'randomforestclassifier__min_samples_split', 'randomforestclassifier__min_weight_fraction_leaf', 'randomforestclassifier__n_estimators', 'randomforestclassifier__n_jobs', 'randomforestclassifier__oob_score', 'randomforestclassifier__random_state', 'randomforestclassifier__verbose', 'randomforestclassifier__warm_start'])"
      ]
     },
     "execution_count": 280,
     "metadata": {},
     "output_type": "execute_result"
    }
   ],
   "source": [
    "pipe6.get_params().keys()"
   ]
  },
  {
   "cell_type": "code",
   "execution_count": 281,
   "id": "ed0bca16-88bf-4c99-a76b-4ff8e6a69793",
   "metadata": {
    "tags": []
   },
   "outputs": [],
   "source": [
    "param_grid6 = {\n",
    "    'tfidfvectorizer__ngram_range': [(1, 1), (1, 2), (1, 3), (2, 2)], \n",
    "    'tfidfvectorizer__min_df': [2, 3, 4], \n",
    "    'randomforestclassifier__n_estimators': [100, 150, 200], \n",
    "    'randomforestclassifier__max_depth': [5, 7, 10, 12, 15], \n",
    "    'randomforestclassifier__min_samples_split': [2, 3, 5, 7]\n",
    "             }"
   ]
  },
  {
   "cell_type": "code",
   "execution_count": 282,
   "id": "42ac0a3c-9689-4400-8406-13de2998eb16",
   "metadata": {},
   "outputs": [],
   "source": [
    "gs6 = GridSearchCV(pipe6, param_grid = param_grid6, n_jobs = -1)"
   ]
  },
  {
   "cell_type": "code",
   "execution_count": 283,
   "id": "61778359-ca14-4b6b-a032-b956bd5fb84d",
   "metadata": {},
   "outputs": [
    {
     "data": {
      "text/plain": [
       "GridSearchCV(estimator=Pipeline(steps=[('tfidfvectorizer',\n",
       "                                        TfidfVectorizer(min_df=2,\n",
       "                                                        stop_words=['i', 'me',\n",
       "                                                                    'my',\n",
       "                                                                    'myself',\n",
       "                                                                    'we', 'our',\n",
       "                                                                    'ours',\n",
       "                                                                    'ourselves',\n",
       "                                                                    'you',\n",
       "                                                                    \"you're\",\n",
       "                                                                    \"you've\",\n",
       "                                                                    \"you'll\",\n",
       "                                                                    \"you'd\",\n",
       "                                                                    'your',\n",
       "                                                                    'yours',\n",
       "                                                                    'yourself',\n",
       "                                                                    'yourselves',\n",
       "                                                                    'he', 'him',\n",
       "                                                                    'his',\n",
       "                                                                    'himself',\n",
       "                                                                    'she',\n",
       "                                                                    \"she's\",\n",
       "                                                                    'her',\n",
       "                                                                    'hers',\n",
       "                                                                    'herself',\n",
       "                                                                    'it',\n",
       "                                                                    \"it's\",\n",
       "                                                                    'its',\n",
       "                                                                    'itself', ...])),\n",
       "                                       ('randomforestclassifier',\n",
       "                                        RandomForestClassifier())]),\n",
       "             n_jobs=-1,\n",
       "             param_grid={'randomforestclassifier__max_depth': [5, 7, 10, 12,\n",
       "                                                               15],\n",
       "                         'randomforestclassifier__min_samples_split': [2, 3, 5,\n",
       "                                                                       7],\n",
       "                         'randomforestclassifier__n_estimators': [100, 150,\n",
       "                                                                  200],\n",
       "                         'tfidfvectorizer__min_df': [2, 3, 4],\n",
       "                         'tfidfvectorizer__ngram_range': [(1, 1), (1, 2),\n",
       "                                                          (1, 3), (2, 2)]})"
      ]
     },
     "execution_count": 283,
     "metadata": {},
     "output_type": "execute_result"
    }
   ],
   "source": [
    "gs6.fit(X_train, y_train)"
   ]
  },
  {
   "cell_type": "code",
   "execution_count": 284,
   "id": "a3c4aac8-cda9-4f47-9fee-43bf1c463b1a",
   "metadata": {},
   "outputs": [
    {
     "data": {
      "text/plain": [
       "{'randomforestclassifier__max_depth': 15,\n",
       " 'randomforestclassifier__min_samples_split': 2,\n",
       " 'randomforestclassifier__n_estimators': 150,\n",
       " 'tfidfvectorizer__min_df': 2,\n",
       " 'tfidfvectorizer__ngram_range': (1, 1)}"
      ]
     },
     "execution_count": 284,
     "metadata": {},
     "output_type": "execute_result"
    }
   ],
   "source": [
    "gs6.best_params_"
   ]
  },
  {
   "cell_type": "code",
   "execution_count": 503,
   "id": "5c1cf13a-3b3b-475a-a976-80308fed589c",
   "metadata": {},
   "outputs": [
    {
     "data": {
      "text/plain": [
       "(0.8026365348399247, 0.8012253149037409)"
      ]
     },
     "execution_count": 503,
     "metadata": {},
     "output_type": "execute_result"
    }
   ],
   "source": [
    "rfc_tf_gs_train = gs6.best_score_\n",
    "rfc_tf_gs_test = cross_val_score(gs6.best_estimator_, X_test, y_test).mean()\n",
    "rfc_tf_gs_train, rfc_tf_gs_test"
   ]
  },
  {
   "cell_type": "code",
   "execution_count": 286,
   "id": "b7ea5252-b520-4527-ba84-37dfe58d0171",
   "metadata": {},
   "outputs": [
    {
     "data": {
      "text/plain": [
       "(0.8212806026365348, 0.8149847094801224)"
      ]
     },
     "execution_count": 286,
     "metadata": {},
     "output_type": "execute_result"
    }
   ],
   "source": [
    "gs6.score(X_train, y_train), gs6.score(X_test, y_test)"
   ]
  },
  {
   "cell_type": "code",
   "execution_count": 484,
   "id": "38285cf0-c480-49c0-930f-8978d9988bdc",
   "metadata": {},
   "outputs": [
    {
     "data": {
      "image/png": "[encoded data removed]",
      "text/plain": [
       "<Figure size 432x288 with 2 Axes>"
      ]
     },
     "metadata": {
      "needs_background": "light"
     },
     "output_type": "display_data"
    }
   ],
   "source": [
    "rfc_tf_gs_conf = ConfusionMatrixDisplay.from_estimator(gs6, X_test, y_test, \n",
    "                                      display_labels = ['drum', 'piano'], cmap = 'Purples', normalize = 'true')\n",
    "rfc_tf_gs_conf\n",
    "plt.title('Grid Search Confusion Matrix: Tfidfvectorizer and Random Forest Classifier');"
   ]
  },
  {
   "cell_type": "code",
   "execution_count": 485,
   "id": "09f26817-786a-4780-aad6-6b9cbaaf14e5",
   "metadata": {
    "tags": []
   },
   "outputs": [],
   "source": [
    "rfc_tf_gs_conf.figure_.savefig('./images/rfc_tf_gs_conf.jpg',dpi = 100)"
   ]
  },
  {
   "cell_type": "markdown",
   "id": "2af23df9-99ce-423d-bbc1-646ec056be22",
   "metadata": {},
   "source": [
    "RFC does not beat the accuracy score from Logistic Regression. \n",
    "The grid search is not as good as original RFC model. this is something need to be discovered. "
   ]
  },
  {
   "cell_type": "markdown",
   "id": "e6fd8361-5aed-4286-a670-dc74df56d783",
   "metadata": {},
   "source": [
    "## 3. Advanced Model with Two Features"
   ]
  },
  {
   "cell_type": "markdown",
   "id": "05140893-8da9-4cf0-a08d-92300205d2c0",
   "metadata": {},
   "source": [
    "### 3.1. Logistic Regression"
   ]
  },
  {
   "cell_type": "code",
   "execution_count": 337,
   "id": "68189609-4bd2-4164-8d03-512faf01b9f6",
   "metadata": {},
   "outputs": [],
   "source": [
    "Z = instrument[['title', 'selftext']]\n",
    "Y = instrument['subreddit']\n",
    "\n",
    "Z_train, Z_test, Y_train, Y_test = train_test_split(Z, Y, random_state = 42, stratify = Y)"
   ]
  },
  {
   "cell_type": "markdown",
   "id": "aff4efb6-2301-4aba-86c9-c9f97ae31314",
   "metadata": {},
   "source": [
    "#### 3.1.1. CountVectorizer + Logistic Regression"
   ]
  },
  {
   "cell_type": "code",
   "execution_count": 338,
   "id": "d215f982-6a3f-4a7b-bf1c-806bb07fe355",
   "metadata": {
    "tags": []
   },
   "outputs": [],
   "source": [
    "CV = CountVectorizer(stop_words = stop_words, min_df = 2)"
   ]
  },
  {
   "cell_type": "code",
   "execution_count": 339,
   "id": "90637101-4308-4692-bd79-a64629e2b188",
   "metadata": {},
   "outputs": [],
   "source": [
    "transformer1 = make_column_transformer(\n",
    "    (CV, 'title'), (CV, 'selftext'), \n",
    "    remainder = 'passthrough',\n",
    "    verbose_feature_names_out = False\n",
    ")"
   ]
  },
  {
   "cell_type": "code",
   "execution_count": 340,
   "id": "9741ad94-e6b2-4ae9-be44-718e10ef2f90",
   "metadata": {},
   "outputs": [],
   "source": [
    "PIPE1 = make_pipeline(transformer1, LogisticRegression(max_iter = 10000))"
   ]
  },
  {
   "cell_type": "code",
   "execution_count": 341,
   "id": "55b30b3d-c2dd-4ad2-9d6b-b0485c396d3c",
   "metadata": {},
   "outputs": [
    {
     "data": {
      "text/plain": [
       "Pipeline(steps=[('columntransformer',\n",
       "                 ColumnTransformer(remainder='passthrough',\n",
       "                                   transformers=[('countvectorizer-1',\n",
       "                                                  CountVectorizer(min_df=2,\n",
       "                                                                  stop_words=['i',\n",
       "                                                                              'me',\n",
       "                                                                              'my',\n",
       "                                                                              'myself',\n",
       "                                                                              'we',\n",
       "                                                                              'our',\n",
       "                                                                              'ours',\n",
       "                                                                              'ourselves',\n",
       "                                                                              'you',\n",
       "                                                                              \"you're\",\n",
       "                                                                              \"you've\",\n",
       "                                                                              \"you'll\",\n",
       "                                                                              \"you'd\",\n",
       "                                                                              'your',\n",
       "                                                                              'yours',\n",
       "                                                                              'yourself',\n",
       "                                                                              'yourselves',\n",
       "                                                                              'he',\n",
       "                                                                              'him',\n",
       "                                                                              'his',\n",
       "                                                                              'himself',\n",
       "                                                                              'she',\n",
       "                                                                              \"she's\",\n",
       "                                                                              'her',\n",
       "                                                                              'hers',\n",
       "                                                                              'herself',\n",
       "                                                                              'i...\n",
       "                                                  CountVectorizer(min_df=2,\n",
       "                                                                  stop_words=['i',\n",
       "                                                                              'me',\n",
       "                                                                              'my',\n",
       "                                                                              'myself',\n",
       "                                                                              'we',\n",
       "                                                                              'our',\n",
       "                                                                              'ours',\n",
       "                                                                              'ourselves',\n",
       "                                                                              'you',\n",
       "                                                                              \"you're\",\n",
       "                                                                              \"you've\",\n",
       "                                                                              \"you'll\",\n",
       "                                                                              \"you'd\",\n",
       "                                                                              'your',\n",
       "                                                                              'yours',\n",
       "                                                                              'yourself',\n",
       "                                                                              'yourselves',\n",
       "                                                                              'he',\n",
       "                                                                              'him',\n",
       "                                                                              'his',\n",
       "                                                                              'himself',\n",
       "                                                                              'she',\n",
       "                                                                              \"she's\",\n",
       "                                                                              'her',\n",
       "                                                                              'hers',\n",
       "                                                                              'herself',\n",
       "                                                                              'it',\n",
       "                                                                              \"it's\",\n",
       "                                                                              'its',\n",
       "                                                                              'itself', ...]),\n",
       "                                                  'selftext')],\n",
       "                                   verbose_feature_names_out=False)),\n",
       "                ('logisticregression', LogisticRegression(max_iter=10000))])"
      ]
     },
     "execution_count": 341,
     "metadata": {},
     "output_type": "execute_result"
    }
   ],
   "source": [
    "PIPE1.fit(Z_train, Y_train)"
   ]
  },
  {
   "cell_type": "code",
   "execution_count": 342,
   "id": "a52c9228-b569-4931-945f-5c271c9f08be",
   "metadata": {},
   "outputs": [
    {
     "data": {
      "text/plain": [
       "(0.9697173620457604, 0.8970736629667003)"
      ]
     },
     "execution_count": 342,
     "metadata": {},
     "output_type": "execute_result"
    }
   ],
   "source": [
    "PIPE1.score(Z_train, Y_train), PIPE1.score(Z_test, Y_test)"
   ]
  },
  {
   "cell_type": "code",
   "execution_count": 343,
   "id": "c0677c82-60cd-4548-bb75-7c04cf6f0c50",
   "metadata": {
    "tags": []
   },
   "outputs": [
    {
     "data": {
      "text/plain": [
       "(0.8824029473314587, 0.8602333155229882)"
      ]
     },
     "execution_count": 343,
     "metadata": {},
     "output_type": "execute_result"
    }
   ],
   "source": [
    "cross_val_score(PIPE1, Z_train, Y_train).mean(), cross_val_score(PIPE1, Z_test, Y_test).mean()"
   ]
  },
  {
   "cell_type": "code",
   "execution_count": 505,
   "id": "8539c633-d003-46d2-875b-0efd9ec2f40b",
   "metadata": {
    "tags": []
   },
   "outputs": [
    {
     "data": {
      "image/png": "[encoded data removed]",
      "text/plain": [
       "<Figure size 432x288 with 2 Axes>"
      ]
     },
     "metadata": {
      "needs_background": "light"
     },
     "output_type": "display_data"
    }
   ],
   "source": [
    "log2_cv_conf = ConfusionMatrixDisplay.from_estimator(PIPE1, Z_test, Y_test, \n",
    "                                      display_labels = ['drum', 'piano'], cmap = 'Blues', normalize = 'true');\n",
    "log2_cv_conf\n",
    "plt.title('Confusion Matrix: Countvectorizer and Logistic Regression');"
   ]
  },
  {
   "cell_type": "code",
   "execution_count": 506,
   "id": "1405ad11-ae7b-4fab-b46f-b753919935c3",
   "metadata": {},
   "outputs": [],
   "source": [
    "log2_cv_conf.figure_.savefig('./images/log2_cv_conf.jpg',dpi = 100)"
   ]
  },
  {
   "cell_type": "markdown",
   "id": "76b4f198-d47b-4c1e-9f5c-7ed33b0ba791",
   "metadata": {},
   "source": [
    "#### 3.1.2. TfidfVectorizer + Logistic Regression"
   ]
  },
  {
   "cell_type": "code",
   "execution_count": 327,
   "id": "fcb298a3-81dd-4351-a54a-b2fd77c4d825",
   "metadata": {},
   "outputs": [],
   "source": [
    "TF = TfidfVectorizer(stop_words = stop_words, min_df = 2)"
   ]
  },
  {
   "cell_type": "code",
   "execution_count": 328,
   "id": "57b448ff-5f35-4003-84d4-335459f785ca",
   "metadata": {},
   "outputs": [],
   "source": [
    "transformer2 = make_column_transformer(\n",
    "    (TF, 'title'), (TF, 'selftext'), \n",
    "    remainder = 'passthrough',\n",
    "    verbose_feature_names_out = False\n",
    ")"
   ]
  },
  {
   "cell_type": "code",
   "execution_count": 329,
   "id": "03cc8192-ba3b-441b-a737-a02779864c04",
   "metadata": {},
   "outputs": [],
   "source": [
    "PIPE2 = make_pipeline(transformer2, LogisticRegression(max_iter = 10000))"
   ]
  },
  {
   "cell_type": "code",
   "execution_count": 330,
   "id": "bbead853-ee31-4a0e-9db7-aeef3fbb5cab",
   "metadata": {},
   "outputs": [
    {
     "data": {
      "text/plain": [
       "Pipeline(steps=[('columntransformer',\n",
       "                 ColumnTransformer(remainder='passthrough',\n",
       "                                   transformers=[('tfidfvectorizer-1',\n",
       "                                                  TfidfVectorizer(min_df=2,\n",
       "                                                                  stop_words=['i',\n",
       "                                                                              'me',\n",
       "                                                                              'my',\n",
       "                                                                              'myself',\n",
       "                                                                              'we',\n",
       "                                                                              'our',\n",
       "                                                                              'ours',\n",
       "                                                                              'ourselves',\n",
       "                                                                              'you',\n",
       "                                                                              \"you're\",\n",
       "                                                                              \"you've\",\n",
       "                                                                              \"you'll\",\n",
       "                                                                              \"you'd\",\n",
       "                                                                              'your',\n",
       "                                                                              'yours',\n",
       "                                                                              'yourself',\n",
       "                                                                              'yourselves',\n",
       "                                                                              'he',\n",
       "                                                                              'him',\n",
       "                                                                              'his',\n",
       "                                                                              'himself',\n",
       "                                                                              'she',\n",
       "                                                                              \"she's\",\n",
       "                                                                              'her',\n",
       "                                                                              'hers',\n",
       "                                                                              'herself',\n",
       "                                                                              'i...\n",
       "                                                  TfidfVectorizer(min_df=2,\n",
       "                                                                  stop_words=['i',\n",
       "                                                                              'me',\n",
       "                                                                              'my',\n",
       "                                                                              'myself',\n",
       "                                                                              'we',\n",
       "                                                                              'our',\n",
       "                                                                              'ours',\n",
       "                                                                              'ourselves',\n",
       "                                                                              'you',\n",
       "                                                                              \"you're\",\n",
       "                                                                              \"you've\",\n",
       "                                                                              \"you'll\",\n",
       "                                                                              \"you'd\",\n",
       "                                                                              'your',\n",
       "                                                                              'yours',\n",
       "                                                                              'yourself',\n",
       "                                                                              'yourselves',\n",
       "                                                                              'he',\n",
       "                                                                              'him',\n",
       "                                                                              'his',\n",
       "                                                                              'himself',\n",
       "                                                                              'she',\n",
       "                                                                              \"she's\",\n",
       "                                                                              'her',\n",
       "                                                                              'hers',\n",
       "                                                                              'herself',\n",
       "                                                                              'it',\n",
       "                                                                              \"it's\",\n",
       "                                                                              'its',\n",
       "                                                                              'itself', ...]),\n",
       "                                                  'selftext')],\n",
       "                                   verbose_feature_names_out=False)),\n",
       "                ('logisticregression', LogisticRegression(max_iter=10000))])"
      ]
     },
     "execution_count": 330,
     "metadata": {},
     "output_type": "execute_result"
    }
   ],
   "source": [
    "PIPE2.fit(Z_train, Y_train)"
   ]
  },
  {
   "cell_type": "code",
   "execution_count": 331,
   "id": "8c734e5d-7b66-472f-9473-020c35efaf2d",
   "metadata": {},
   "outputs": [
    {
     "data": {
      "text/plain": [
       "(0.9500336473755047, 0.8975782038345106)"
      ]
     },
     "execution_count": 331,
     "metadata": {},
     "output_type": "execute_result"
    }
   ],
   "source": [
    "PIPE2.score(Z_train, Y_train), PIPE2.score(Z_test, Y_test)"
   ]
  },
  {
   "cell_type": "code",
   "execution_count": 332,
   "id": "aa354f94-1d94-479e-be52-be450a7b7a43",
   "metadata": {},
   "outputs": [
    {
     "data": {
      "text/plain": [
       "(0.8876195371149114, 0.8556993104852048)"
      ]
     },
     "execution_count": 332,
     "metadata": {},
     "output_type": "execute_result"
    }
   ],
   "source": [
    "cross_val_score(PIPE2, Z_train, Y_train).mean(), cross_val_score(PIPE2, Z_test, Y_test).mean()"
   ]
  },
  {
   "cell_type": "code",
   "execution_count": 507,
   "id": "c6b4194e-0837-4b9c-b337-7379451c0ddf",
   "metadata": {},
   "outputs": [
    {
     "data": {
      "image/png": "[encoded data removed]",
      "text/plain": [
       "<Figure size 432x288 with 2 Axes>"
      ]
     },
     "metadata": {
      "needs_background": "light"
     },
     "output_type": "display_data"
    }
   ],
   "source": [
    "log2_tf_conf = ConfusionMatrixDisplay.from_estimator(PIPE2, Z_test, Y_test, \n",
    "                                      display_labels = ['drum', 'piano'], cmap = 'Blues', normalize = 'true')\n",
    "log2_tf_conf\n",
    "plt.title('Confusion Matrix: Tfidfvectorizer and Logistic Regression');"
   ]
  },
  {
   "cell_type": "code",
   "execution_count": 508,
   "id": "2d8c781b-eb65-421a-a61c-0e5cf4f8d0f9",
   "metadata": {},
   "outputs": [],
   "source": [
    "log2_tf_conf.figure_.savefig('./images/log2_tf_conf.jpg',dpi = 100)"
   ]
  },
  {
   "cell_type": "markdown",
   "id": "05f20170-5732-405f-8359-0f5328160a8c",
   "metadata": {
    "tags": []
   },
   "source": [
    "#### 3.1.3. Grid Search: CountVectorizer + Logistic Regression"
   ]
  },
  {
   "cell_type": "code",
   "execution_count": 359,
   "id": "cf897ede-9ba1-4c1c-98d7-c1a2c7edd4fc",
   "metadata": {},
   "outputs": [
    {
     "data": {
      "text/plain": [
       "dict_keys(['memory', 'steps', 'verbose', 'columntransformer', 'logisticregression', 'columntransformer__n_jobs', 'columntransformer__remainder', 'columntransformer__sparse_threshold', 'columntransformer__transformer_weights', 'columntransformer__transformers', 'columntransformer__verbose', 'columntransformer__verbose_feature_names_out', 'columntransformer__countvectorizer-1', 'columntransformer__countvectorizer-2', 'columntransformer__countvectorizer-1__analyzer', 'columntransformer__countvectorizer-1__binary', 'columntransformer__countvectorizer-1__decode_error', 'columntransformer__countvectorizer-1__dtype', 'columntransformer__countvectorizer-1__encoding', 'columntransformer__countvectorizer-1__input', 'columntransformer__countvectorizer-1__lowercase', 'columntransformer__countvectorizer-1__max_df', 'columntransformer__countvectorizer-1__max_features', 'columntransformer__countvectorizer-1__min_df', 'columntransformer__countvectorizer-1__ngram_range', 'columntransformer__countvectorizer-1__preprocessor', 'columntransformer__countvectorizer-1__stop_words', 'columntransformer__countvectorizer-1__strip_accents', 'columntransformer__countvectorizer-1__token_pattern', 'columntransformer__countvectorizer-1__tokenizer', 'columntransformer__countvectorizer-1__vocabulary', 'columntransformer__countvectorizer-2__analyzer', 'columntransformer__countvectorizer-2__binary', 'columntransformer__countvectorizer-2__decode_error', 'columntransformer__countvectorizer-2__dtype', 'columntransformer__countvectorizer-2__encoding', 'columntransformer__countvectorizer-2__input', 'columntransformer__countvectorizer-2__lowercase', 'columntransformer__countvectorizer-2__max_df', 'columntransformer__countvectorizer-2__max_features', 'columntransformer__countvectorizer-2__min_df', 'columntransformer__countvectorizer-2__ngram_range', 'columntransformer__countvectorizer-2__preprocessor', 'columntransformer__countvectorizer-2__stop_words', 'columntransformer__countvectorizer-2__strip_accents', 'columntransformer__countvectorizer-2__token_pattern', 'columntransformer__countvectorizer-2__tokenizer', 'columntransformer__countvectorizer-2__vocabulary', 'logisticregression__C', 'logisticregression__class_weight', 'logisticregression__dual', 'logisticregression__fit_intercept', 'logisticregression__intercept_scaling', 'logisticregression__l1_ratio', 'logisticregression__max_iter', 'logisticregression__multi_class', 'logisticregression__n_jobs', 'logisticregression__penalty', 'logisticregression__random_state', 'logisticregression__solver', 'logisticregression__tol', 'logisticregression__verbose', 'logisticregression__warm_start'])"
      ]
     },
     "execution_count": 359,
     "metadata": {},
     "output_type": "execute_result"
    }
   ],
   "source": [
    "PIPE1.get_params().keys()"
   ]
  },
  {
   "cell_type": "code",
   "execution_count": 360,
   "id": "39f5120c-b583-4bb1-8351-10bca085a69a",
   "metadata": {},
   "outputs": [],
   "source": [
    "PARAM_grid1 = {\n",
    "    'columntransformer__countvectorizer-1__ngram_range': [(1, 1), (1, 2), (1, 3), (2, 2)], \n",
    "    'columntransformer__countvectorizer-1__min_df': [2, 3, 4], \n",
    "    'columntransformer__countvectorizer-2__ngram_range': [(1, 1), (1, 2), (1, 3), (2, 2)], \n",
    "    'columntransformer__countvectorizer-2__min_df': [2, 3, 4], \n",
    "    'logisticregression__C': [0.5, 1.0, 1.5]\n",
    "             }"
   ]
  },
  {
   "cell_type": "code",
   "execution_count": 361,
   "id": "805d469a-5a92-42aa-9aa1-2ae13bfcae3b",
   "metadata": {},
   "outputs": [],
   "source": [
    "GS1 = GridSearchCV(PIPE1, param_grid = PARAM_grid1, n_jobs = -1)"
   ]
  },
  {
   "cell_type": "code",
   "execution_count": 362,
   "id": "c0d380b3-6348-4297-988e-ff731f5c6d9c",
   "metadata": {
    "tags": []
   },
   "outputs": [
    {
     "data": {
      "text/plain": [
       "GridSearchCV(estimator=Pipeline(steps=[('columntransformer',\n",
       "                                        ColumnTransformer(remainder='passthrough',\n",
       "                                                          transformers=[('countvectorizer-1',\n",
       "                                                                         CountVectorizer(min_df=2,\n",
       "                                                                                         stop_words=['i',\n",
       "                                                                                                     'me',\n",
       "                                                                                                     'my',\n",
       "                                                                                                     'myself',\n",
       "                                                                                                     'we',\n",
       "                                                                                                     'our',\n",
       "                                                                                                     'ours',\n",
       "                                                                                                     'ourselves',\n",
       "                                                                                                     'you',\n",
       "                                                                                                     \"you're\",\n",
       "                                                                                                     \"you've\",\n",
       "                                                                                                     \"you'll\",\n",
       "                                                                                                     \"you'd\",\n",
       "                                                                                                     'your',\n",
       "                                                                                                     'yours',\n",
       "                                                                                                     'yourself',\n",
       "                                                                                                     'yourselves',\n",
       "                                                                                                     'he',\n",
       "                                                                                                     'him',\n",
       "                                                                                                     'his',\n",
       "                                                                                                     'himself',\n",
       "                                                                                                     'she',\n",
       "                                                                                                     \"she's\",\n",
       "                                                                                                     'h...\n",
       "             n_jobs=-1,\n",
       "             param_grid={'columntransformer__countvectorizer-1__min_df': [2, 3,\n",
       "                                                                          4,\n",
       "                                                                          5],\n",
       "                         'columntransformer__countvectorizer-1__ngram_range': [(1,\n",
       "                                                                                1),\n",
       "                                                                               (1,\n",
       "                                                                                2),\n",
       "                                                                               (1,\n",
       "                                                                                3),\n",
       "                                                                               (2,\n",
       "                                                                                2),\n",
       "                                                                               (2,\n",
       "                                                                                3),\n",
       "                                                                               (3,\n",
       "                                                                                3)],\n",
       "                         'columntransformer__countvectorizer-2__min_df': [2, 3,\n",
       "                                                                          4,\n",
       "                                                                          5],\n",
       "                         'columntransformer__countvectorizer-2__ngram_range': [(1,\n",
       "                                                                                1),\n",
       "                                                                               (1,\n",
       "                                                                                2),\n",
       "                                                                               (1,\n",
       "                                                                                3),\n",
       "                                                                               (2,\n",
       "                                                                                2),\n",
       "                                                                               (2,\n",
       "                                                                                3),\n",
       "                                                                               (3,\n",
       "                                                                                3)],\n",
       "                         'logisticregression__C': [0.1, 0.5, 1.0, 1.5]})"
      ]
     },
     "execution_count": 362,
     "metadata": {},
     "output_type": "execute_result"
    }
   ],
   "source": [
    "GS1.fit(Z_train, Y_train)"
   ]
  },
  {
   "cell_type": "code",
   "execution_count": 363,
   "id": "7ad1229b-e70a-45f4-8897-a3bc2d98c2cc",
   "metadata": {},
   "outputs": [
    {
     "data": {
      "text/plain": [
       "{'columntransformer__countvectorizer-1__min_df': 2,\n",
       " 'columntransformer__countvectorizer-1__ngram_range': (1, 3),\n",
       " 'columntransformer__countvectorizer-2__min_df': 2,\n",
       " 'columntransformer__countvectorizer-2__ngram_range': (1, 3),\n",
       " 'logisticregression__C': 1.5}"
      ]
     },
     "execution_count": 363,
     "metadata": {},
     "output_type": "execute_result"
    }
   ],
   "source": [
    "GS1.best_params_"
   ]
  },
  {
   "cell_type": "code",
   "execution_count": 364,
   "id": "c94ef4e6-62d1-44fd-b227-d5d4bf4c5f0b",
   "metadata": {},
   "outputs": [
    {
     "data": {
      "text/plain": [
       "(0.8830760648254341, 0.865276187568379)"
      ]
     },
     "execution_count": 364,
     "metadata": {},
     "output_type": "execute_result"
    }
   ],
   "source": [
    "GS1.best_score_, cross_val_score(GS1.best_estimator_, Z_test, Y_test).mean()"
   ]
  },
  {
   "cell_type": "code",
   "execution_count": 365,
   "id": "8bfb761d-840f-41b4-9057-11394a059674",
   "metadata": {},
   "outputs": [
    {
     "data": {
      "text/plain": [
       "(0.980820995962315, 0.8990918264379415)"
      ]
     },
     "execution_count": 365,
     "metadata": {},
     "output_type": "execute_result"
    }
   ],
   "source": [
    "GS1.score(Z_train, Y_train), GS1.score(Z_test, Y_test)"
   ]
  },
  {
   "cell_type": "code",
   "execution_count": 510,
   "id": "188cdeea-b3bc-48b1-bc65-e50351768188",
   "metadata": {},
   "outputs": [
    {
     "data": {
      "image/png": "[encoded data removed]",
      "text/plain": [
       "<Figure size 432x288 with 2 Axes>"
      ]
     },
     "metadata": {
      "needs_background": "light"
     },
     "output_type": "display_data"
    }
   ],
   "source": [
    "log2_cv_gs_conf = ConfusionMatrixDisplay.from_estimator(GS1, Z_test, Y_test, \n",
    "                                      display_labels = ['drum', 'piano'], cmap = 'Blues', normalize = 'true')\n",
    "log2_cv_gs_conf\n",
    "plt.title('Grid Search Confusion Matrix: Countvectorizer and Logistic Regression');"
   ]
  },
  {
   "cell_type": "code",
   "execution_count": 511,
   "id": "f5709b2b-8272-4588-bbd1-c5a575e74e58",
   "metadata": {},
   "outputs": [],
   "source": [
    "log2_cv_gs_conf.figure_.savefig('./images/log2_cv_gs_conf.jpg',dpi = 100)"
   ]
  },
  {
   "cell_type": "markdown",
   "id": "2792fce1-3f09-483f-826b-877f3bd27a35",
   "metadata": {},
   "source": [
    "#### 3.1.4. Grid Search: TfidfVectorizer + Logistic Regression"
   ]
  },
  {
   "cell_type": "code",
   "execution_count": 367,
   "id": "882b6bfc-e557-4e59-b28d-d2ed41b5d380",
   "metadata": {},
   "outputs": [
    {
     "data": {
      "text/plain": [
       "dict_keys(['memory', 'steps', 'verbose', 'columntransformer', 'logisticregression', 'columntransformer__n_jobs', 'columntransformer__remainder', 'columntransformer__sparse_threshold', 'columntransformer__transformer_weights', 'columntransformer__transformers', 'columntransformer__verbose', 'columntransformer__verbose_feature_names_out', 'columntransformer__tfidfvectorizer-1', 'columntransformer__tfidfvectorizer-2', 'columntransformer__tfidfvectorizer-1__analyzer', 'columntransformer__tfidfvectorizer-1__binary', 'columntransformer__tfidfvectorizer-1__decode_error', 'columntransformer__tfidfvectorizer-1__dtype', 'columntransformer__tfidfvectorizer-1__encoding', 'columntransformer__tfidfvectorizer-1__input', 'columntransformer__tfidfvectorizer-1__lowercase', 'columntransformer__tfidfvectorizer-1__max_df', 'columntransformer__tfidfvectorizer-1__max_features', 'columntransformer__tfidfvectorizer-1__min_df', 'columntransformer__tfidfvectorizer-1__ngram_range', 'columntransformer__tfidfvectorizer-1__norm', 'columntransformer__tfidfvectorizer-1__preprocessor', 'columntransformer__tfidfvectorizer-1__smooth_idf', 'columntransformer__tfidfvectorizer-1__stop_words', 'columntransformer__tfidfvectorizer-1__strip_accents', 'columntransformer__tfidfvectorizer-1__sublinear_tf', 'columntransformer__tfidfvectorizer-1__token_pattern', 'columntransformer__tfidfvectorizer-1__tokenizer', 'columntransformer__tfidfvectorizer-1__use_idf', 'columntransformer__tfidfvectorizer-1__vocabulary', 'columntransformer__tfidfvectorizer-2__analyzer', 'columntransformer__tfidfvectorizer-2__binary', 'columntransformer__tfidfvectorizer-2__decode_error', 'columntransformer__tfidfvectorizer-2__dtype', 'columntransformer__tfidfvectorizer-2__encoding', 'columntransformer__tfidfvectorizer-2__input', 'columntransformer__tfidfvectorizer-2__lowercase', 'columntransformer__tfidfvectorizer-2__max_df', 'columntransformer__tfidfvectorizer-2__max_features', 'columntransformer__tfidfvectorizer-2__min_df', 'columntransformer__tfidfvectorizer-2__ngram_range', 'columntransformer__tfidfvectorizer-2__norm', 'columntransformer__tfidfvectorizer-2__preprocessor', 'columntransformer__tfidfvectorizer-2__smooth_idf', 'columntransformer__tfidfvectorizer-2__stop_words', 'columntransformer__tfidfvectorizer-2__strip_accents', 'columntransformer__tfidfvectorizer-2__sublinear_tf', 'columntransformer__tfidfvectorizer-2__token_pattern', 'columntransformer__tfidfvectorizer-2__tokenizer', 'columntransformer__tfidfvectorizer-2__use_idf', 'columntransformer__tfidfvectorizer-2__vocabulary', 'logisticregression__C', 'logisticregression__class_weight', 'logisticregression__dual', 'logisticregression__fit_intercept', 'logisticregression__intercept_scaling', 'logisticregression__l1_ratio', 'logisticregression__max_iter', 'logisticregression__multi_class', 'logisticregression__n_jobs', 'logisticregression__penalty', 'logisticregression__random_state', 'logisticregression__solver', 'logisticregression__tol', 'logisticregression__verbose', 'logisticregression__warm_start'])"
      ]
     },
     "execution_count": 367,
     "metadata": {},
     "output_type": "execute_result"
    }
   ],
   "source": [
    "PIPE2.get_params().keys()"
   ]
  },
  {
   "cell_type": "code",
   "execution_count": 368,
   "id": "68311ca8-db94-40a3-94a2-2b73d3af818b",
   "metadata": {
    "tags": []
   },
   "outputs": [],
   "source": [
    "PARAM_grid2 = {\n",
    "    'columntransformer__tfidfvectorizer-1__ngram_range': [(1, 1), (1, 2), (1, 3), (2, 2)], \n",
    "    'columntransformer__tfidfvectorizer-1__min_df': [2, 3, 4], \n",
    "    'columntransformer__tfidfvectorizer-2__ngram_range': [(1, 1), (1, 2), (1, 3), (2, 2)], \n",
    "    'columntransformer__tfidfvectorizer-2__min_df': [2, 3, 4], \n",
    "    'logisticregression__C': [0.5, 1.0, 1.5]\n",
    "             }"
   ]
  },
  {
   "cell_type": "code",
   "execution_count": 369,
   "id": "6cfd76d7-16fb-4175-b40c-55be4d810807",
   "metadata": {},
   "outputs": [],
   "source": [
    "GS2 = GridSearchCV(PIPE2, param_grid = PARAM_grid2, n_jobs = -1)"
   ]
  },
  {
   "cell_type": "code",
   "execution_count": 370,
   "id": "ef4788f2-b1e5-40e4-a29a-d0cd26bffbcb",
   "metadata": {},
   "outputs": [
    {
     "data": {
      "text/plain": [
       "GridSearchCV(estimator=Pipeline(steps=[('columntransformer',\n",
       "                                        ColumnTransformer(remainder='passthrough',\n",
       "                                                          transformers=[('tfidfvectorizer-1',\n",
       "                                                                         TfidfVectorizer(min_df=2,\n",
       "                                                                                         stop_words=['i',\n",
       "                                                                                                     'me',\n",
       "                                                                                                     'my',\n",
       "                                                                                                     'myself',\n",
       "                                                                                                     'we',\n",
       "                                                                                                     'our',\n",
       "                                                                                                     'ours',\n",
       "                                                                                                     'ourselves',\n",
       "                                                                                                     'you',\n",
       "                                                                                                     \"you're\",\n",
       "                                                                                                     \"you've\",\n",
       "                                                                                                     \"you'll\",\n",
       "                                                                                                     \"you'd\",\n",
       "                                                                                                     'your',\n",
       "                                                                                                     'yours',\n",
       "                                                                                                     'yourself',\n",
       "                                                                                                     'yourselves',\n",
       "                                                                                                     'he',\n",
       "                                                                                                     'him',\n",
       "                                                                                                     'his',\n",
       "                                                                                                     'himself',\n",
       "                                                                                                     'she',\n",
       "                                                                                                     \"she's\",\n",
       "                                                                                                     'h...\n",
       "                                        LogisticRegression(max_iter=10000))]),\n",
       "             n_jobs=-1,\n",
       "             param_grid={'columntransformer__tfidfvectorizer-1__min_df': [2, 3,\n",
       "                                                                          4],\n",
       "                         'columntransformer__tfidfvectorizer-1__ngram_range': [(1,\n",
       "                                                                                1),\n",
       "                                                                               (1,\n",
       "                                                                                2),\n",
       "                                                                               (1,\n",
       "                                                                                3),\n",
       "                                                                               (2,\n",
       "                                                                                2)],\n",
       "                         'columntransformer__tfidfvectorizer-2__min_df': [2, 3,\n",
       "                                                                          4],\n",
       "                         'columntransformer__tfidfvectorizer-2__ngram_range': [(1,\n",
       "                                                                                1),\n",
       "                                                                               (1,\n",
       "                                                                                2),\n",
       "                                                                               (1,\n",
       "                                                                                3),\n",
       "                                                                               (2,\n",
       "                                                                                2)],\n",
       "                         'logisticregression__C': [0.5, 1.0, 1.5]})"
      ]
     },
     "execution_count": 370,
     "metadata": {},
     "output_type": "execute_result"
    }
   ],
   "source": [
    "GS2.fit(Z_train, Y_train)"
   ]
  },
  {
   "cell_type": "code",
   "execution_count": 371,
   "id": "35d726a3-e92b-4917-b121-b07492667156",
   "metadata": {},
   "outputs": [
    {
     "data": {
      "text/plain": [
       "{'columntransformer__tfidfvectorizer-1__min_df': 2,\n",
       " 'columntransformer__tfidfvectorizer-1__ngram_range': (1, 1),\n",
       " 'columntransformer__tfidfvectorizer-2__min_df': 3,\n",
       " 'columntransformer__tfidfvectorizer-2__ngram_range': (1, 2),\n",
       " 'logisticregression__C': 1.5}"
      ]
     },
     "execution_count": 371,
     "metadata": {},
     "output_type": "execute_result"
    }
   ],
   "source": [
    "GS2.best_params_"
   ]
  },
  {
   "cell_type": "code",
   "execution_count": 372,
   "id": "2f0988cc-a439-44e1-9f99-8a81c82d0c80",
   "metadata": {},
   "outputs": [
    {
     "data": {
      "text/plain": [
       "(0.8903121486805254, 0.8627623845507977)"
      ]
     },
     "execution_count": 372,
     "metadata": {},
     "output_type": "execute_result"
    }
   ],
   "source": [
    "GS2.best_score_, cross_val_score(GS2.best_estimator_, Z_test, Y_test).mean()"
   ]
  },
  {
   "cell_type": "code",
   "execution_count": 373,
   "id": "a86bd38c-ace0-4b81-b4a7-a39f119a9192",
   "metadata": {},
   "outputs": [
    {
     "data": {
      "text/plain": [
       "(0.957099596231494, 0.8980827447023209)"
      ]
     },
     "execution_count": 373,
     "metadata": {},
     "output_type": "execute_result"
    }
   ],
   "source": [
    "GS2.score(Z_train, Y_train), GS2.score(Z_test, Y_test)"
   ]
  },
  {
   "cell_type": "code",
   "execution_count": 512,
   "id": "8301eb0c-aa16-4998-8342-a50a303bdaa7",
   "metadata": {},
   "outputs": [
    {
     "data": {
      "image/png": "[encoded data removed]",
      "text/plain": [
       "<Figure size 432x288 with 2 Axes>"
      ]
     },
     "metadata": {
      "needs_background": "light"
     },
     "output_type": "display_data"
    }
   ],
   "source": [
    "log2_tf_gs_conf = ConfusionMatrixDisplay.from_estimator(GS2, Z_test, Y_test, \n",
    "                                      display_labels = ['drum', 'piano'], cmap = 'Blues', normalize = 'true')\n",
    "log2_tf_gs_conf\n",
    "plt.title('Grid Search Confusion Matrix: Tfidfvectorizer and Logistic Regression');"
   ]
  },
  {
   "cell_type": "code",
   "execution_count": 513,
   "id": "8ef85755-8c7d-4fd6-b887-4f42f12d3af4",
   "metadata": {
    "tags": []
   },
   "outputs": [],
   "source": [
    "log2_tf_gs_conf.figure_.savefig('./images/log2_tf_gs_conf.jpg',dpi = 100)"
   ]
  },
  {
   "cell_type": "markdown",
   "id": "8c4d6338-09a6-4895-9ab6-fbaf4eb3f4ba",
   "metadata": {},
   "source": [
    "The two feature model is the best estimator for the seleted model. the FP was reduced to 0.11/0.12 from 0.17/0.18. Due to computing limitation, only Logistic Regression is tried. "
   ]
  },
  {
   "cell_type": "markdown",
   "id": "a6fab341-3c37-4ca9-9d56-0a3779566ac8",
   "metadata": {},
   "source": [
    "* I don't know how to make the figure of The model performace that includes all cross validation score from all 16 models. Becuase the x-axis contains three stepped distribution. For example, One Feature Model - Logistic Regression - CountVectorizer. So I made the figure in Excel. the excel file is located in the image folder. "
   ]
  },
  {
   "cell_type": "code",
   "execution_count": null,
   "id": "9a7747ca-ca2e-40c0-82d1-48fa5a048673",
   "metadata": {},
   "outputs": [],
   "source": []
  },
  {
   "cell_type": "markdown",
   "id": "f65c11fd-f4c0-4552-b24c-9ef3ca4a4e98",
   "metadata": {},
   "source": [
    "## 4. Conclusions"
   ]
  },
  {
   "cell_type": "markdown",
   "id": "59c235ff-8759-4dab-800a-d1343143e259",
   "metadata": {},
   "source": [
    "* The proposed model increased accuracy rate from 12.5% o 34.8% from baseline. \n",
    "\n",
    "* However, it encountered bottleneck for accuracy score around 90%. \n",
    "\n",
    "* In order to improve, three methods can be tried in future:\n",
    "\n",
    "     1). collect more data points\n",
    "\n",
    "     2). optimize model by further digging on parameters\n",
    "\n",
    "     3). try other models\n",
    "\n",
    "* The model is ready to apply to other subreddit with some minor parameter adjustment. "
   ]
  }
 ],
 "metadata": {
  "kernelspec": {
   "display_name": "Python 3 (ipykernel)",
   "language": "python",
   "name": "python3"
  },
  "language_info": {
   "codemirror_mode": {
    "name": "ipython",
    "version": 3
   },
   "file_extension": ".py",
   "mimetype": "text/x-python",
   "name": "python",
   "nbconvert_exporter": "python",
   "pygments_lexer": "ipython3",
   "version": "3.9.7"
  }
 },
 "nbformat": 4,
 "nbformat_minor": 5
}
